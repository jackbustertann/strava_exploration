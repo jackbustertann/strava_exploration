{
 "nbformat": 4,
 "nbformat_minor": 2,
 "metadata": {
  "language_info": {
   "name": "python",
   "codemirror_mode": {
    "name": "ipython",
    "version": 3
   },
   "version": "3.7.3-final"
  },
  "orig_nbformat": 2,
  "file_extension": ".py",
  "mimetype": "text/x-python",
  "name": "python",
  "npconvert_exporter": "python",
  "pygments_lexer": "ipython3",
  "version": 3,
  "kernelspec": {
   "name": "python37364bitbaseconda29883d8d1f6d40a8a22efcd61dfbad11",
   "display_name": "Python 3.7.3 64-bit ('base': conda)"
  }
 },
 "cells": [
  {
   "cell_type": "markdown",
   "metadata": {},
   "source": [
    "# ETL pipeline"
   ]
  },
  {
   "cell_type": "code",
   "execution_count": 1,
   "metadata": {},
   "outputs": [],
   "source": [
    "from datetime import datetime, timedelta\n",
    "from ETL_pipeline_functions import week_ago, iso_8601_to_unix, token_exchange, request_activities, request_weather, request_splits, request_zones, append_requests"
   ]
  },
  {
   "cell_type": "code",
   "execution_count": 2,
   "metadata": {},
   "outputs": [],
   "source": [
    "now = datetime.now()\n",
    "test_date = now - timedelta(weeks = 2)\n",
    "test_date = iso_8601_to_unix(test_date)"
   ]
  },
  {
   "cell_type": "code",
   "execution_count": 3,
   "metadata": {},
   "outputs": [],
   "source": [
    "def ETL_pipeline(test_date):\n",
    "    # start_date = iso_8601_to_unix(week_ago())\n",
    "\n",
    "    activities = request_activities(test_date)\n",
    "    append_requests(activities, 'activities.csv')\n",
    "\n",
    "    activity_ids = list(map(lambda activity: activity['activity_id'], activities))\n",
    "\n",
    "    weather_list = request_weather(activity_ids)\n",
    "    append_requests(weather_list, 'activity_weather.csv')\n",
    "\n",
    "    activity_splits = request_splits(activity_ids)\n",
    "    append_requests(activity_splits, 'activity_splits.csv')\n",
    "\n",
    "    activity_zones = request_zones(activity_ids)\n",
    "    append_requests(activity_zones, 'activity_zones.csv')\n",
    "\n",
    "    return print(\"ETL pipeline complete\")"
   ]
  },
  {
   "cell_type": "code",
   "execution_count": 4,
   "metadata": {},
   "outputs": [
    {
     "name": "stdout",
     "output_type": "stream",
     "text": "activities.csv appended\nactivity_weather.csv appended\nactivity_splits.csv appended\nactivity_zones.csv appended\nETL pipeline complete\n"
    }
   ],
   "source": [
    "ETL_pipeline(test_date)"
   ]
  },
  {
   "cell_type": "code",
   "execution_count": null,
   "metadata": {},
   "outputs": [],
   "source": []
  }
 ]
}