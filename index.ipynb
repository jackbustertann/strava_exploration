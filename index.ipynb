{
 "nbformat": 4,
 "nbformat_minor": 2,
 "metadata": {
  "language_info": {
   "name": "python",
   "codemirror_mode": {
    "name": "ipython",
    "version": 3
   },
   "version": "3.7.3-final"
  },
  "orig_nbformat": 2,
  "file_extension": ".py",
  "mimetype": "text/x-python",
  "name": "python",
  "npconvert_exporter": "python",
  "pygments_lexer": "ipython3",
  "version": 3,
  "kernelspec": {
   "name": "python37364bitbaseconda29883d8d1f6d40a8a22efcd61dfbad11",
   "display_name": "Python 3.7.3 64-bit ('base': conda)"
  }
 },
 "cells": [
  {
   "cell_type": "markdown",
   "metadata": {},
   "source": [
    "# ETL pipeline"
   ]
  },
  {
   "cell_type": "code",
   "execution_count": 1,
   "metadata": {},
   "outputs": [],
   "source": [
    "from datetime import datetime, timedelta\n",
    "import time\n",
    "from ETL_pipeline_functions import last_date, iso_8601_to_unix, strava_token_exchange, request_activities, request_weather, request_splits, request_zones, append_requests"
   ]
  },
  {
   "cell_type": "code",
   "execution_count": 3,
   "metadata": {},
   "outputs": [],
   "source": [
    "def ETL_pipeline():\n",
    "    # storing access token\n",
    "    access_token = strava_token_exchange()['access_token']\n",
    "\n",
    "    # storing last activity date in unix format\n",
    "    start_date = iso_8601_to_unix(last_date())\n",
    "\n",
    "    # requesting activities from past week\n",
    "    activities = request_activities(start_date, access_token)\n",
    "\n",
    "    # checking for activities\n",
    "    n = 0\n",
    "    n += len(activities)\n",
    "\n",
    "    # error handling for weeks with no activities\n",
    "    if n == 0:\n",
    "        return print(\"no activities to append\")\n",
    "\n",
    "    else:\n",
    "        # appending activities to csv file\n",
    "        append_requests(activities, 'activities.csv')\n",
    "\n",
    "        # storing ids for activities\n",
    "        activity_ids = list(map(lambda activity: activity['activity_id'], activities))\n",
    "\n",
    "        # requesting weather info for activities and appending to csv file\n",
    "        weather_list = request_weather(activity_ids, access_token)\n",
    "        n += append_requests(weather_list, 'activity_weather.csv')\n",
    "\n",
    "        # requesting split metrics for activities and appending to csv file\n",
    "        activity_splits = request_splits(activity_ids, access_token)\n",
    "        n += append_requests(activity_splits, 'activity_splits.csv')\n",
    "\n",
    "        # requesting hr and pace zones for activities and appending to csv file\n",
    "        activity_zones = request_zones(activity_ids, access_token)\n",
    "        n += append_requests(activity_zones, 'activity_zones.csv')\n",
    "    \n",
    "    # logging requests\n",
    "    \n",
    "\n",
    "    return print(\"ETL pipeline complete\")"
   ]
  },
  {
   "cell_type": "code",
   "execution_count": 4,
   "metadata": {},
   "outputs": [
    {
     "name": "stdout",
     "output_type": "stream",
     "text": "activities.csv appended\nactivity_weather.csv appended\nactivity_splits.csv appended\nactivity_zones.csv appended\nETL pipeline complete\n"
    }
   ],
   "source": [
    "ETL_pipeline()"
   ]
  },
  {
   "cell_type": "code",
   "execution_count": 4,
   "metadata": {},
   "outputs": [
    {
     "name": "stdout",
     "output_type": "stream",
     "text": "no activities to append\n"
    }
   ],
   "source": [
    "ETL_pipeline()"
   ]
  },
  {
   "cell_type": "code",
   "execution_count": null,
   "metadata": {},
   "outputs": [],
   "source": []
  }
 ]
}