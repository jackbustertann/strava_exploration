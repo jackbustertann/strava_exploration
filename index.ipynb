{
 "nbformat": 4,
 "nbformat_minor": 2,
 "metadata": {
  "language_info": {
   "name": "python",
   "codemirror_mode": {
    "name": "ipython",
    "version": 3
   },
   "version": "3.7.3-final"
  },
  "orig_nbformat": 2,
  "file_extension": ".py",
  "mimetype": "text/x-python",
  "name": "python",
  "npconvert_exporter": "python",
  "pygments_lexer": "ipython3",
  "version": 3,
  "kernelspec": {
   "name": "python37364bitbaseconda29883d8d1f6d40a8a22efcd61dfbad11",
   "display_name": "Python 3.7.3 64-bit ('base': conda)"
  }
 },
 "cells": [
  {
   "cell_type": "markdown",
   "metadata": {},
   "source": [
    "# Strava API Tutorial"
   ]
  },
  {
   "cell_type": "markdown",
   "execution_count": null,
   "metadata": {},
   "outputs": [],
   "source": [
    "## Importing libaries"
   ]
  },
  {
   "cell_type": "code",
   "execution_count": 1,
   "metadata": {},
   "outputs": [],
   "source": [
    "import pandas as pd\n",
    "import requests\n",
    "import json"
   ]
  },
  {
   "cell_type": "markdown",
   "execution_count": null,
   "metadata": {},
   "outputs": [],
   "source": [
    "## Storing API credentials"
   ]
  },
  {
   "cell_type": "code",
   "execution_count": 6,
   "metadata": {},
   "outputs": [],
   "source": [
    "api_credentials = json.load(open('.secret/strava_api_credentials.json', 'r'))\n",
    "client_id = api_credentials['client_id']\n",
    "client_secret = api_credentials['client_secret']\n",
    "access_token = api_credentials['access_token']\n",
    "refresh_token = api_credentials['refresh_token']"
   ]
  },
  {
   "cell_type": "markdown",
   "metadata": {},
   "source": [
    "## Storing request fundementals"
   ]
  },
  {
   "cell_type": "code",
   "execution_count": 7,
   "metadata": {},
   "outputs": [],
   "source": [
    "base_url = \"https://www.strava.com/api/v3\"\n",
    "headers = {\"Authorization\": \"Bearer {}\".format(access_token)}"
   ]
  },
  {
   "cell_type": "markdown",
   "execution_count": null,
   "metadata": {},
   "outputs": [],
   "source": [
    "## Client Authentication"
   ]
  },
  {
   "cell_type": "code",
   "execution_count": 4,
   "metadata": {},
   "outputs": [
    {
     "data": {
      "text/plain": "{'token_type': 'Bearer',\n 'access_token': '9ea5041b0cd476de23a667d71021ad07f716468b',\n 'expires_at': 1582748747,\n 'expires_in': 21600,\n 'refresh_token': 'f437acf70f96a2e3cadbc2416b63f2855fa9dfee'}"
     },
     "execution_count": 4,
     "metadata": {},
     "output_type": "execute_result"
    }
   ],
   "source": [
    "# authorisation_code = \"ad9c4b97c1bcb1e9ea035e95aa2081691bf53f73\"\n",
    "# req = requests.post(\"https://www.strava.com/oauth/token?client_id={}&client_secret={}&code={}&grant_type=authororization_code\".format(client_id, client_secret, refresh_token))\n",
    "req = requests.post(\"https://www.strava.com/oauth/token?client_id={}&client_secret={}&refresh_token={}&grant_type=refresh_token\".format(client_id, client_secret, refresh_token))\n",
    "req.json()"
   ]
  },
  {
   "cell_type": "markdown",
   "execution_count": null,
   "metadata": {},
   "outputs": [],
   "source": [
    "# Getting basic activity information"
   ]
  },
  {
   "cell_type": "code",
   "execution_count": 9,
   "metadata": {},
   "outputs": [
    {
     "data": {
      "text/plain": "{'resource_state': 2,\n 'athlete': {'id': 34272639, 'resource_state': 1},\n 'name': 'Tuesday intervals (including WU/WD)',\n 'distance': 11244.2,\n 'moving_time': 3206,\n 'elapsed_time': 4038,\n 'total_elevation_gain': 56.2,\n 'type': 'Run',\n 'workout_type': 0,\n 'id': 3131802476,\n 'external_id': 'garmin_push_4590785536',\n 'upload_id': 3345747701,\n 'start_date': '2020-02-25T18:34:37Z',\n 'start_date_local': '2020-02-25T18:34:37Z',\n 'timezone': '(GMT+00:00) Europe/London',\n 'utc_offset': 0.0,\n 'start_latlng': [51.822253, -0.203645],\n 'end_latlng': [51.821375, -0.202674],\n 'location_city': None,\n 'location_state': None,\n 'location_country': None,\n 'start_latitude': 51.822253,\n 'start_longitude': -0.203645,\n 'achievement_count': 10,\n 'kudos_count': 14,\n 'comment_count': 0,\n 'athlete_count': 15,\n 'photo_count': 0,\n 'map': {'id': 'a3131802476',\n  'summary_polyline': 'aph{Hxwf@@qALe@\\\\a@f@SvAMLMFSB_AFMvBc@lDgCt@w@z@s@~AgB|AyBd@[BG?g@HYTa@XODMH_CbA_J@sAD}@f@gDtAmDfAoAr@a@x@IxALhAh@Zf@`@VxAfB`Al@lBt@rB\\\\p@ErBm@hCaCDOMk@?a@[{AYcCkBkFu@gC[y@Mq@@c@e@wAd@mBr@eB?KJYh@d@lAzA|A`CPEf@kBfA{CNw@|@sCAa@_@_ASSSFTc@z@lBBZCXYdAs@bBuB`GQZO?MKqAgBkAwAs@kACc@pAsGb@cAn@_Ax@m@x@Uf@?fAPLPBJCfBJt@GKAOC@FVf@rA@l@a@dBeDdJMNOEkAkB_@Us@}@{@uAEY@i@ZkAb@}BtAoCPi@\\\\Yh@[x@OtAFPNFXCxA?`AFBECG]EGNn@d@jABj@a@zAeDlJMLIAa@_@yDkFKWAi@nAaGd@uAj@w@~@q@z@UxADPBPNFh@ErA@r@EQC?JN`@nAD\\\\?ZEVUr@oCzHa@~@YA{@}@aBaCYk@c@a@EKAi@b@}A^wB\\\\oAd@_Az@gAlAk@nBPPJHTAdBBp@LHM]h@`BFh@E\\\\a@vAaDdJGFQAQMcEkFKQIe@B]`@_Bj@wCZaA^s@~@_Ar@]x@EjANPLBJ@ZE~A@XFNQW@QFJn@jBD^Cf@ERkAtD_@v@ONYG]]_AqAUu@C_@Bs@Ni@Zi@hCiBp@U?TQDCGVf@d@zACh@eApDk@nAMNO?gAeBi@o@Ig@?eANk@T]|CsBb@MBJAHWAF@Xh@Xp@D\\\\Ej@i@fBm@hB_@v@WNQMk@eAm@q@KYG]Aq@B]Ni@X]~C}B`@G?TSJDCCGXj@\\\\dAAl@c@`BsAlDWPQGmAkBMYOm@Ca@B_@Lk@Va@rCyBl@QAZG??IGJVb@Xx@Bt@m@|Bs@nB[n@GFUE}AyBU_AAw@Jo@f@m@xCyBRS@NLPAHKCGaDGKWGy@?wATmAjAu@|Aw@xDq@jCYv@C^cBzDLf@h@dA?\\\\m@`A]DU\\\\WhA{CtHMH[AQLQN[hAg@FUCERGHs@Y_@GcADo@Tu@f@g@d@sA~BY`Am@pJ{@~FIpCe@j@Wd@M~@u@l@iAbBeAlAcAz@cAr@e@b@eBfAmClAe@LELCdAEX',\n  'resource_state': 2},\n 'trainer': False,\n 'commute': False,\n 'manual': False,\n 'private': False,\n 'visibility': 'everyone',\n 'flagged': False,\n 'gear_id': None,\n 'from_accepted_tag': False,\n 'upload_id_str': '3345747701',\n 'average_speed': 3.507,\n 'max_speed': 7.4,\n 'average_cadence': 84.5,\n 'has_heartrate': True,\n 'average_heartrate': 153.3,\n 'max_heartrate': 186.0,\n 'heartrate_opt_out': False,\n 'display_hide_heartrate_option': True,\n 'elev_high': 84.4,\n 'elev_low': 65.6,\n 'pr_count': 4,\n 'total_photo_count': 0,\n 'has_kudoed': False,\n 'suffer_score': 69.0}"
     },
     "execution_count": 9,
     "metadata": {},
     "output_type": "execute_result"
    }
   ],
   "source": [
    "req_1 = requests.get(\"{}/athlete/activities\".format(base_url), headers = headers)\n",
    "req_1.json()[0]"
   ]
  },
  {
   "cell_type": "markdown",
   "metadata": {},
   "source": [
    "### Looping over all user activities"
   ]
  },
  {
   "cell_type": "code",
   "execution_count": 10,
   "metadata": {},
   "outputs": [],
   "source": [
    "activities = []\n",
    "i = 1\n",
    "# first request\n",
    "req = requests.get(\"{}/athlete/activities\".format(base_url), headers = headers, params = {'page': i})\n",
    "# looping over user activities in batches of 30 until request is empty\n",
    "while len(req.json()) > 0:\n",
    "    # storing attributes from each activity in a dictionary and adding to a list\n",
    "    for activity in req.json():\n",
    "        # extracting attributes from request, padding missing values with empty strings\n",
    "        activity_name, activity_id, activity_type = activity['name'], activity['id'], activity['type']\n",
    "        distance, time = activity.get('distance', ''), activity.get('elapsed_time', '')\n",
    "        elevation_gain = activity.get('total_elevation_gain', '')\n",
    "        kudos = activity.get('kudos_count', '')\n",
    "        start_date = activity.get('start_date', '')\n",
    "        average_speed, max_speed, average_cadence = activity.get('average_speed', ''), activity.get('max_speed', ''), activity.get('average_cadence', '')\n",
    "        average_hr, max_hr = activity.get('average_heartrate', ''), activity.get('max_heartrate', '')\n",
    "        suffer_score = activity.get('suffer_score', '')\n",
    "        # storing attributes in a dictionary\n",
    "        activity_attributes = {'activity_name': activity_name, 'activity_id': activity_id, 'activity_type': activity_type, 'distance': distance, 'time': time, 'elevation_gain': elevation_gain, 'kudos': kudos, 'start_date': start_date, 'average_speed': average_speed, 'max_speed': max_speed,\n",
    "'average_cadence': average_cadence, 'average_hr': average_hr, 'max_hr': max_hr, 'suffer_score': suffer_score}\n",
    "        # appending dictionary to list\n",
    "        activities.append(activity_attributes)\n",
    "    # iterating to next page\n",
    "    i += 1\n",
    "    req = requests.get(\"{}/athlete/activities\".format(base_url), headers = headers, params = {'page': i})"
   ]
  },
  {
   "cell_type": "markdown",
   "metadata": {},
   "source": [
    "### Storing running activities in a dataframe"
   ]
  },
  {
   "cell_type": "code",
   "execution_count": 11,
   "metadata": {},
   "outputs": [],
   "source": [
    "activities_df = pd.DataFrame(activities)\n",
    "runs_df = activities_df.loc[activities_df['activity_type'] == 'Run']"
   ]
  },
  {
   "cell_type": "code",
   "execution_count": 13,
   "metadata": {},
   "outputs": [],
   "source": [
    "runs_df.to_csv('run_activities.csv')"
   ]
  },
  {
   "cell_type": "code",
   "execution_count": 17,
   "metadata": {},
   "outputs": [
    {
     "data": {
      "text/html": "<div>\n<style scoped>\n    .dataframe tbody tr th:only-of-type {\n        vertical-align: middle;\n    }\n\n    .dataframe tbody tr th {\n        vertical-align: top;\n    }\n\n    .dataframe thead th {\n        text-align: right;\n    }\n</style>\n<table border=\"1\" class=\"dataframe\">\n  <thead>\n    <tr style=\"text-align: right;\">\n      <th></th>\n      <th>activity_id</th>\n      <th>activity_name</th>\n      <th>average_cadence</th>\n      <th>average_hr</th>\n      <th>average_speed</th>\n      <th>distance</th>\n      <th>elevation_gain</th>\n      <th>kudos</th>\n      <th>max_hr</th>\n      <th>max_speed</th>\n      <th>start_date</th>\n      <th>suffer_score</th>\n      <th>time</th>\n    </tr>\n  </thead>\n  <tbody>\n    <tr>\n      <th>0</th>\n      <td>3131802476</td>\n      <td>Tuesday intervals (including WU/WD)</td>\n      <td>84.5</td>\n      <td>153.3</td>\n      <td>3.507</td>\n      <td>11244.2</td>\n      <td>56.2</td>\n      <td>14</td>\n      <td>186.0</td>\n      <td>7.4</td>\n      <td>2020-02-25T18:34:37Z</td>\n      <td>69.0</td>\n      <td>4038</td>\n    </tr>\n    <tr>\n      <th>1</th>\n      <td>3124325868</td>\n      <td>Morning Run - Welwyn</td>\n      <td>81.9</td>\n      <td>140.3</td>\n      <td>3.514</td>\n      <td>9944.3</td>\n      <td>118.4</td>\n      <td>10</td>\n      <td>170.0</td>\n      <td>5.2</td>\n      <td>2020-02-23T08:34:33Z</td>\n      <td>34.0</td>\n      <td>2830</td>\n    </tr>\n    <tr>\n      <th>2</th>\n      <td>3121033650</td>\n      <td>Panshanger PR (18:11 - 1st)</td>\n      <td>85.7</td>\n      <td>173.4</td>\n      <td>4.490</td>\n      <td>5006.7</td>\n      <td>36.2</td>\n      <td>16</td>\n      <td>195.0</td>\n      <td>7.1</td>\n      <td>2020-02-22T09:02:55Z</td>\n      <td>58.0</td>\n      <td>1238</td>\n    </tr>\n    <tr>\n      <th>3</th>\n      <td>3121032425</td>\n      <td>PR WU</td>\n      <td>81.0</td>\n      <td>141.0</td>\n      <td>3.347</td>\n      <td>2604.2</td>\n      <td>2.1</td>\n      <td>1</td>\n      <td>158.0</td>\n      <td>5.3</td>\n      <td>2020-02-22T08:42:49Z</td>\n      <td>9.0</td>\n      <td>778</td>\n    </tr>\n    <tr>\n      <th>4</th>\n      <td>3117367456</td>\n      <td>Track</td>\n      <td>84.0</td>\n      <td>151.5</td>\n      <td>3.842</td>\n      <td>11187.1</td>\n      <td>0.0</td>\n      <td>11</td>\n      <td>185.0</td>\n      <td>6.7</td>\n      <td>2020-02-20T18:35:22Z</td>\n      <td>65.0</td>\n      <td>3383</td>\n    </tr>\n  </tbody>\n</table>\n</div>",
      "text/plain": "   activity_id                        activity_name  average_cadence  \\\n0   3131802476  Tuesday intervals (including WU/WD)             84.5   \n1   3124325868                Morning Run - Welwyn              81.9   \n2   3121033650          Panshanger PR (18:11 - 1st)             85.7   \n3   3121032425                                PR WU             81.0   \n4   3117367456                               Track              84.0   \n\n   average_hr  average_speed  distance  elevation_gain  kudos  max_hr  \\\n0       153.3          3.507   11244.2            56.2     14   186.0   \n1       140.3          3.514    9944.3           118.4     10   170.0   \n2       173.4          4.490    5006.7            36.2     16   195.0   \n3       141.0          3.347    2604.2             2.1      1   158.0   \n4       151.5          3.842   11187.1             0.0     11   185.0   \n\n   max_speed            start_date  suffer_score  time  \n0        7.4  2020-02-25T18:34:37Z          69.0  4038  \n1        5.2  2020-02-23T08:34:33Z          34.0  2830  \n2        7.1  2020-02-22T09:02:55Z          58.0  1238  \n3        5.3  2020-02-22T08:42:49Z           9.0   778  \n4        6.7  2020-02-20T18:35:22Z          65.0  3383  "
     },
     "execution_count": 17,
     "metadata": {},
     "output_type": "execute_result"
    }
   ],
   "source": [
    "runs_df = pd.read_csv('run_activities.csv').drop(columns = ['Unnamed: 0', 'activity_type'])\n",
    "runs_df.head()"
   ]
  },
  {
   "cell_type": "markdown",
   "metadata": {},
   "source": [
    "### Storing activity ids"
   ]
  },
  {
   "cell_type": "code",
   "execution_count": 18,
   "metadata": {},
   "outputs": [],
   "source": [
    "activity_ids = list(runs_df['activity_id'])"
   ]
  },
  {
   "cell_type": "markdown",
   "metadata": {},
   "source": [
    "# Getting activity split times"
   ]
  },
  {
   "cell_type": "code",
   "execution_count": 14,
   "metadata": {},
   "outputs": [
    {
     "data": {
      "text/plain": "[{'id': 10324732285,\n  'resource_state': 2,\n  'name': 'Lap 1',\n  'activity': {'id': 3101510285, 'resource_state': 1},\n  'athlete': {'id': 34272639, 'resource_state': 1},\n  'elapsed_time': 218,\n  'moving_time': 218,\n  'start_date': '2020-02-15T09:02:17Z',\n  'start_date_local': '2020-02-15T09:02:17Z',\n  'distance': 1000.0,\n  'start_index': 0,\n  'end_index': 219,\n  'total_elevation_gain': 9.0,\n  'average_speed': 4.59,\n  'max_speed': 5.5,\n  'average_cadence': 87.1,\n  'average_heartrate': 135.6,\n  'max_heartrate': 147.0,\n  'lap_index': 1,\n  'split': 1,\n  'pace_zone': 5},\n {'id': 10324732295,\n  'resource_state': 2,\n  'name': 'Lap 2',\n  'activity': {'id': 3101510285, 'resource_state': 1},\n  'athlete': {'id': 34272639, 'resource_state': 1},\n  'elapsed_time': 225,\n  'moving_time': 225,\n  'start_date': '2020-02-15T09:05:57Z',\n  'start_date_local': '2020-02-15T09:05:57Z',\n  'distance': 1000.0,\n  'start_index': 220,\n  'end_index': 445,\n  'total_elevation_gain': 20.0,\n  'average_speed': 4.44,\n  'max_speed': 5.1,\n  'average_cadence': 85.2,\n  'average_heartrate': 172.7,\n  'max_heartrate': 185.0,\n  'lap_index': 2,\n  'split': 2,\n  'pace_zone': 4},\n {'id': 10324732298,\n  'resource_state': 2,\n  'name': 'Lap 3',\n  'activity': {'id': 3101510285, 'resource_state': 1},\n  'athlete': {'id': 34272639, 'resource_state': 1},\n  'elapsed_time': 230,\n  'moving_time': 230,\n  'start_date': '2020-02-15T09:09:43Z',\n  'start_date_local': '2020-02-15T09:09:43Z',\n  'distance': 1000.0,\n  'start_index': 446,\n  'end_index': 676,\n  'total_elevation_gain': 16.0,\n  'average_speed': 4.35,\n  'max_speed': 4.9,\n  'average_cadence': 84.8,\n  'average_heartrate': 185.2,\n  'max_heartrate': 189.0,\n  'lap_index': 3,\n  'split': 3,\n  'pace_zone': 4},\n {'id': 10324732305,\n  'resource_state': 2,\n  'name': 'Lap 4',\n  'activity': {'id': 3101510285, 'resource_state': 1},\n  'athlete': {'id': 34272639, 'resource_state': 1},\n  'elapsed_time': 225,\n  'moving_time': 225,\n  'start_date': '2020-02-15T09:13:34Z',\n  'start_date_local': '2020-02-15T09:13:34Z',\n  'distance': 1000.0,\n  'start_index': 677,\n  'end_index': 901,\n  'total_elevation_gain': 17.0,\n  'average_speed': 4.44,\n  'max_speed': 5.1,\n  'average_cadence': 85.2,\n  'average_heartrate': 188.5,\n  'max_heartrate': 192.0,\n  'lap_index': 4,\n  'split': 4,\n  'pace_zone': 4},\n {'id': 10324732311,\n  'resource_state': 2,\n  'name': 'Lap 5',\n  'activity': {'id': 3101510285, 'resource_state': 1},\n  'athlete': {'id': 34272639, 'resource_state': 1},\n  'elapsed_time': 201,\n  'moving_time': 201,\n  'start_date': '2020-02-15T09:17:19Z',\n  'start_date_local': '2020-02-15T09:17:19Z',\n  'distance': 946.07,\n  'start_index': 902,\n  'end_index': 1103,\n  'total_elevation_gain': 7.0,\n  'average_speed': 4.71,\n  'max_speed': 5.2,\n  'average_cadence': 85.6,\n  'average_heartrate': 186.9,\n  'max_heartrate': 191.0,\n  'lap_index': 5,\n  'split': 5,\n  'pace_zone': 5}]"
     },
     "execution_count": 14,
     "metadata": {},
     "output_type": "execute_result"
    }
   ],
   "source": [
    "req_2 = requests.get(\"{}/activities/{}/laps\".format(base_url, activity_ids[1]), headers = headers)\n",
    "req_2.json()"
   ]
  },
  {
   "cell_type": "code",
   "execution_count": 15,
   "metadata": {},
   "outputs": [],
   "source": [
    "activity_splits = []\n",
    "i = 1\n",
    "for split in req_2.json():\n",
    "    if split['distance'] > 250:\n",
    "        activity_id, split_index = split['activity']['id'], i\n",
    "        split_time = split['elapsed_time']\n",
    "        split_distance, split_elevation_gain = split['distance'], split['total_elevation_gain']\n",
    "        split_average_speed, split_max_speed = split['average_speed'], split['max_speed']\n",
    "        split_average_hr, split_max_hr = split['average_heartrate'], split['max_heartrate']\n",
    "        split_average_cadence = split['average_cadence']\n",
    "        split_attributes = {'activity_id': activity_id, 'split_index': split_index, 'split_time': split_time, 'split_distance': split_distance, 'split_elevation_gain': split_elevation_gain, 'split_average_speed': split_average_speed, 'split_max_speed': split_max_speed, 'split_average_hr': split_average_hr, 'split_max_hr': split_max_hr, 'split_average_cadence': split_average_cadence}\n",
    "        activity_splits.append(split_attributes)\n",
    "        i += 1\n",
    "    else:\n",
    "        continue\n",
    "activity_splits_df = pd.DataFrame.from_dict(activity_splits)"
   ]
  },
  {
   "cell_type": "markdown",
   "execution_count": null,
   "metadata": {},
   "outputs": [],
   "source": [
    "# Getting activity HR zones"
   ]
  },
  {
   "cell_type": "code",
   "execution_count": 67,
   "metadata": {},
   "outputs": [],
   "source": [
    "req_3 = requests.get(\"{}/activities/{}/zones\".format(base_url, str(req_1.json()[0]['id'])), headers = new_headers)"
   ]
  },
  {
   "cell_type": "code",
   "execution_count": 68,
   "metadata": {},
   "outputs": [
    {
     "data": {
      "text/plain": "[{'score': 62,\n  'distribution_buckets': [{'max': 123, 'min': 0, 'time': 21},\n   {'max': 153, 'min': 123, 'time': 10},\n   {'max': 169, 'min': 153, 'time': 234},\n   {'max': 184, 'min': 169, 'time': 367},\n   {'max': -1, 'min': 184, 'time': 442}],\n  'type': 'heartrate',\n  'resource_state': 3,\n  'sensor_based': True,\n  'points': 46,\n  'custom_zones': False},\n {'score': 10,\n  'distribution_buckets': [{'max': 3.270811744386874, 'min': 0, 'time': 0},\n   {'max': 3.799913644214162, 'min': 3.270811744386874, 'time': 0},\n   {'max': 4.232815198618307, 'min': 3.799913644214162, 'time': 4},\n   {'max': 4.521416234887737, 'min': 4.232815198618307, 'time': 362},\n   {'max': 4.810017271157167, 'min': 4.521416234887737, 'time': 558},\n   {'max': -1, 'min': 4.810017271157167, 'time': 150}],\n  'type': 'pace',\n  'resource_state': 3,\n  'sensor_based': True}]"
     },
     "execution_count": 68,
     "metadata": {},
     "output_type": "execute_result"
    }
   ],
   "source": [
    "req_3.json()"
   ]
  }
 ]
}