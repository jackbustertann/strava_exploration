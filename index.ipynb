{
 "nbformat": 4,
 "nbformat_minor": 2,
 "metadata": {
  "language_info": {
   "name": "python",
   "codemirror_mode": {
    "name": "ipython",
    "version": 3
   },
   "version": "3.7.3-final"
  },
  "orig_nbformat": 2,
  "file_extension": ".py",
  "mimetype": "text/x-python",
  "name": "python",
  "npconvert_exporter": "python",
  "pygments_lexer": "ipython3",
  "version": 3,
  "kernelspec": {
   "name": "python37364bitbaseconda29883d8d1f6d40a8a22efcd61dfbad11",
   "display_name": "Python 3.7.3 64-bit ('base': conda)"
  }
 },
 "cells": [
  {
   "cell_type": "markdown",
   "metadata": {},
   "source": [
    "# Importing Libaries"
   ]
  },
  {
   "cell_type": "code",
   "execution_count": 1,
   "metadata": {},
   "outputs": [],
   "source": [
    "from datetime import datetime, timedelta\n",
    "import time, csv\n",
    "import ETL_pipeline_functions "
   ]
  },
  {
   "cell_type": "markdown",
   "metadata": {},
   "source": [
    "# Data Collection"
   ]
  },
  {
   "cell_type": "code",
   "execution_count": 2,
   "metadata": {},
   "outputs": [],
   "source": [
    "def ETL_pipeline():\n",
    "    # storing credentials for Strava and Google Geocoding API's\n",
    "    strava_access_token = ETL_pipeline_functions.strava_token_exchange('.secret/strava_api_credentials.json')\n",
    "    geocode_key = ETL_pipeline_functions.geocode_key_getter('.secret/geocode_api_credentials.json')\n",
    "\n",
    "    # storing most recent date from activities file\n",
    "    timestamp = ETL_pipeline_functions.last_timestamp('data/activities.csv')\n",
    "    # converting date from iso-8601 format to unix format\n",
    "    unix_time = ETL_pipeline_functions.timestamp_to_unix(timestamp)\n",
    "\n",
    "    # making requests to activities endpoint for Strava API\n",
    "    activities = ETL_pipeline_functions.request_activities(strava_access_token, geocode_key, unix_time)\n",
    "\n",
    "    # cleaning activities\n",
    "    cleaned_activities = [ETL_pipeline_functions.activity_cleaner(activity) for activity in activities if activity['activity_type'] == 'Run']\n",
    "\n",
    "    # storing number of activities\n",
    "    n = len(cleaned_activities)\n",
    "\n",
    "    # checking for activities\n",
    "    if n:\n",
    "        # appending activities to csv file\n",
    "        ETL_pipeline_functions.append_requests(cleaned_activities, 'data/activities.csv')\n",
    "\n",
    "        # storing ids for activities\n",
    "        activity_ids = list(map(lambda activity: activity['id'], cleaned_activities))\n",
    "\n",
    "        # making requests to laps endpoint for Strava API\n",
    "        splits = ETL_pipeline_functions.request_splits(strava_access_token, activity_ids)\n",
    "        # appending splits to csv file\n",
    "        ETL_pipeline_functions.append_requests(splits, 'data/activity_splits.csv')\n",
    "\n",
    "        # making requests to zones endpoint for Strava API\n",
    "        zones = ETL_pipeline_functions.request_zones(strava_access_token, activity_ids)\n",
    "        # appending zones to csv file\n",
    "        ETL_pipeline_functions.append_requests(zones, 'data/activity_zones.csv')\n",
    "\n",
    "    # exception handling for no activities\n",
    "    else:\n",
    "        return print(\"no activities to append\")\n",
    "    \n",
    "    # storing current date\n",
    "    date = datetime.now().strftime('%d/%m/%Y')\n",
    "    # logging requests to a csv file\n",
    "    with open('data/request_log.csv', 'a', newline = '') as a:\n",
    "        csv_writer = csv.writer(a)\n",
    "        csv_writer.writerow([date, n])\n",
    "        a.close()\n",
    "    \n",
    "    return print(\"ETL pipeline complete\")"
   ]
  },
  {
   "cell_type": "code",
   "execution_count": 3,
   "metadata": {},
   "outputs": [
    {
     "output_type": "stream",
     "name": "stdout",
     "text": "data/activities.csv appended\ndata/activity_splits.csv appended\ndata/activity_zones.csv appended\nETL pipeline complete\n"
    }
   ],
   "source": [
    "ETL_pipeline()"
   ]
  },
  {
   "cell_type": "code",
   "execution_count": 4,
   "metadata": {},
   "outputs": [
    {
     "output_type": "stream",
     "name": "stdout",
     "text": "data/activities.csv appended\ndata/activity_splits.csv appended\ndata/activity_zones.csv appended\nETL pipeline complete\n"
    }
   ],
   "source": [
    "ETL_pipeline()"
   ]
  },
  {
   "cell_type": "code",
   "execution_count": null,
   "metadata": {},
   "outputs": [],
   "source": []
  }
 ]
}