{
 "nbformat": 4,
 "nbformat_minor": 2,
 "metadata": {
  "language_info": {
   "name": "python",
   "codemirror_mode": {
    "name": "ipython",
    "version": 3
   },
   "version": "3.7.3-final"
  },
  "orig_nbformat": 2,
  "file_extension": ".py",
  "mimetype": "text/x-python",
  "name": "python",
  "npconvert_exporter": "python",
  "pygments_lexer": "ipython3",
  "version": 3,
  "kernelspec": {
   "name": "python37364bitbaseconda29883d8d1f6d40a8a22efcd61dfbad11",
   "display_name": "Python 3.7.3 64-bit ('base': conda)"
  }
 },
 "cells": [
  {
   "cell_type": "markdown",
   "metadata": {},
   "source": [
    "# ETL pipeline"
   ]
  },
  {
   "cell_type": "code",
   "execution_count": 1,
   "metadata": {},
   "outputs": [],
   "source": [
    "from datetime import datetime, timedelta\n",
    "import time, csv\n",
    "import ETL_pipeline_functions "
   ]
  },
  {
   "cell_type": "code",
   "execution_count": 2,
   "metadata": {},
   "outputs": [],
   "source": [
    "def ETL_pipeline():\n",
    "    # storing credentials for Strava and Google Geocoding API's\n",
    "    strava_access_token = ETL_pipeline_functions.strava_token_exchange('.secret/strava_api_credentials.json')\n",
    "    geocode_key = ETL_pipeline_functions.geocode_key_getter('.secret/geocode_api_credentials.json')\n",
    "\n",
    "    # storing most recent date from activities file\n",
    "    start_date_iso = ETL_pipeline_functions.last_date('data/activities.csv')\n",
    "    # converting date from iso-8601 format to unix format\n",
    "    start_date_unix = ETL_pipeline_functions.iso_8601_to_unix(start_date_iso)\n",
    "\n",
    "    # making requests to activities endpoint for Strava API\n",
    "    activities = ETL_pipeline_functions.request_activities(strava_access_token, geocode_key, start_date_unix)\n",
    "\n",
    "    # storing number of activities\n",
    "    n = len(activities)\n",
    "\n",
    "    # checking for activities\n",
    "    if n:\n",
    "        # appending activities to csv file\n",
    "        ETL_pipeline_functions.append_requests(activities, 'data/activities.csv')\n",
    "\n",
    "        # storing ids for activities\n",
    "        activity_ids = list(map(lambda activity: activity['activity_id'], activities))\n",
    "\n",
    "        # making requests to laps endpoint for Strava API\n",
    "        splits = ETL_pipeline_functions.request_splits(strava_access_token, activity_ids)\n",
    "        # appending splits to csv file\n",
    "        ETL_pipeline_functions.append_requests(splits, 'data/activity_splits.csv')\n",
    "\n",
    "        # making requests to zones endpoint for Strava API\n",
    "        zones = ETL_pipeline_functions.request_zones(strava_access_token, activity_ids)\n",
    "        # appending zones to csv file\n",
    "        ETL_pipeline_functions.append_requests(zones, 'data/activity_zones.csv')\n",
    "\n",
    "    # exception handling for no activities\n",
    "    else:\n",
    "        return print(\"no activities to append\")\n",
    "    \n",
    "    # storing current date\n",
    "    date = datetime.now().strftime('%d/%m/%Y')\n",
    "    # logging requests to a csv file\n",
    "    with open('data/request_log.csv', 'a', newline = '') as a:\n",
    "        csv_writer = csv.writer(a)\n",
    "        csv_writer.writerow([date, n])\n",
    "        a.close()\n",
    "    \n",
    "    return print(\"ETL pipeline complete\")"
   ]
  },
  {
   "cell_type": "code",
   "execution_count": 4,
   "metadata": {},
   "outputs": [
    {
     "output_type": "stream",
     "name": "stdout",
     "text": "no activities to append\n"
    }
   ],
   "source": [
    "ETL_pipeline()"
   ]
  },
  {
   "cell_type": "code",
   "execution_count": 17,
   "metadata": {},
   "outputs": [],
   "source": [
    "activities = pd.read_csv('activities.csv')\n",
    "weather = pd.read_csv('activity_weather.csv')\n",
    "locations = pd.read_csv('activity_locations.csv')"
   ]
  },
  {
   "cell_type": "code",
   "execution_count": 25,
   "metadata": {},
   "outputs": [],
   "source": [
    "activities_merged = pd.merge(activities, locations, left_on = 'activity_id', right_on = 'activity_id', how = 'left')"
   ]
  },
  {
   "cell_type": "code",
   "execution_count": 31,
   "metadata": {},
   "outputs": [
    {
     "output_type": "execute_result",
     "data": {
      "text/plain": "Welwyn Garden City    143\nHertford               31\nHatfield               20\nLondon                  3\nBarnet                  2\nWatford                 2\nSt Albans               1\nManchester              1\nRoyston                 1\nWaltham Cross           1\nName: location, dtype: int64"
     },
     "metadata": {},
     "execution_count": 31
    }
   ],
   "source": [
    "activities_merged['location'].value_counts()"
   ]
  },
  {
   "cell_type": "code",
   "execution_count": 29,
   "metadata": {},
   "outputs": [
    {
     "output_type": "execute_result",
     "data": {
      "text/plain": "                                        activity_name  activity_id  \\\n0                         Panshanger PR (18:12 - 2nd)   1807281354   \n2           Hatfield 5k Series, race 1 (17:55 - 32nd)   1821995859   \n3                         Panshanger PR (18:21 - 2nd)   1826965116   \n6                         Panshanger PR (18:12 - 3rd)   1842987085   \n7                                Morning Run - Welwyn   1847294196   \n8           Hatfield 5k Series, race 2 (18:16 - 35th)   1853006370   \n10                        Panshanger PR (18:19 - 2nd)   1857902033   \n11                              Morning Run - Welwyn    1862331364   \n13                        Panshanger PR (18:05 - 1st)   1872555370   \n16          Hatfield 5k Series, race 3 (17:54 - 28th)   1882361101   \n17                        Ellenbrook PR (17:58 - 3rd)   1887241249   \n20                        Ellenbrook PR (18:12 - 1st)   1901741659   \n21                           Herts 10k (38:37 - 12th)   1904482788   \n25                        Ellenbrook PR (17:55 - 3rd)   1929767235   \n26  Herts XC League - Cheshunt, race 1 (30:02 - 48th)   1932824805   \n27                        Ellenbrook PR (17:52 - 4th)   1942935742   \n28  Royal Parks 10k Winter Series - Greenwich Park...   1945373292   \n30                        Ellenbrook PR (17:48 - 5th)   1956322981   \n33               Herts Half Marathon (1:25:13 - 23rd)   1971573913   \n35                          Hatfield 5 (29:25 - 27th)   1984320686   \n37                        Ellenbrook PR (18:10 - 4th)   1994128219   \n38  Herts XC League - Trent Park, race 2 (31:05 - ...   1996389369   \n40                        Ellenbrook PR (18:13 - 3rd)   2006263877   \n41  Royal Parks 10k Winter Series - Regent’s Park,...   2008814980   \n42                        Ellenbrook PR (17:50 - 3rd)   2018009843   \n43  Herts XC League - Stevenage, race 3 (30:13 - 5...   2020910026   \n44                     3k time trial - GCR Intervals    2027065200   \n46                        Panshanger PR (18:13 - 8th)   2034563513   \n72                                         Treadmill    2124527513   \n73                                         Treadmill    2126745486   \n74                                         Treadmill    2131109737   \n75                                         Treadmill    2132961358   \n92                                   Treadmill (easy)   2248034095   \n93                                   Treadmill (easy)   2252382209   \n94                                   Treadmill (easy)   2262946903   \n98                                         Treadmill    2295098332   \n\n   activity_type  distance  time  elevation_gain  kudos            start_date  \\\n0            Run    5000.0  1092             0.0      1  2018-08-25T08:00:00Z   \n2            Run    5000.0  1075             0.0     10  2018-09-05T18:45:13Z   \n3            Run    5000.0  1101             0.0      6  2018-09-08T08:00:56Z   \n6            Run    5000.0  1092             0.0      6  2018-09-15T08:00:00Z   \n7            Run   10000.0  2550             0.0      5  2018-09-17T08:24:27Z   \n8            Run    5000.0  1096             0.0      9  2018-09-19T18:45:00Z   \n10           Run    5000.0  1099             0.0      7  2018-09-22T08:00:00Z   \n11           Run   10000.0  2622             0.0      6  2018-09-24T08:20:47Z   \n13           Run    5000.0  1085             0.0     12  2018-09-29T08:00:00Z   \n16           Run    5000.0  1074             0.0     10  2018-10-03T18:45:00Z   \n17           Run    5000.0  1078             0.0      9  2018-10-06T08:00:00Z   \n20           Run    5000.0  1092             0.0      8  2018-10-13T08:00:00Z   \n21           Run   10000.0  2317             0.0      9  2018-10-14T09:00:00Z   \n25           Run    5000.0  1075             0.0     10  2018-10-27T08:00:10Z   \n26           Run    8046.7  1802             0.0     10  2018-10-28T11:00:00Z   \n27           Run    5000.0  1072             0.0     13  2018-11-03T09:00:00Z   \n28           Run   10000.0  2452             0.0     13  2018-11-04T09:30:27Z   \n30           Run    5000.0  1068             0.0     12  2018-11-10T09:00:00Z   \n33           Run   21100.0  5113             0.0     11  2018-11-18T09:30:00Z   \n35           Run    8000.0  1765             0.0     14  2018-11-25T10:00:00Z   \n37           Run    5000.0  1090             0.0      9  2018-12-01T09:00:00Z   \n38           Run    8000.0  1865             0.0     12  2018-12-02T10:30:00Z   \n40           Run    5000.0  1093             0.0     10  2018-12-08T09:00:00Z   \n41           Run   10000.0  2309             0.0     13  2018-12-09T09:00:56Z   \n42           Run    5000.0  1070             0.0     14  2018-12-15T09:00:00Z   \n43           Run    8000.0  1813             0.0      6  2018-12-16T10:30:00Z   \n44           Run    3000.0   617             0.0      6  2018-12-20T19:00:00Z   \n46           Run    5000.0  1093             0.0     11  2018-12-25T09:00:00Z   \n72           Run    8000.0  1965             0.0      9  2019-02-04T21:00:00Z   \n73           Run    9000.0  2340             0.0      8  2019-02-05T20:34:57Z   \n74           Run   13679.5  3600             0.0      6  2019-02-07T20:35:41Z   \n75           Run   16093.5  4290             0.0      8  2019-02-08T20:16:57Z   \n92           Run   10000.0  2940             0.0      3  2019-03-28T20:56:14Z   \n93           Run   15000.0  4350             0.0     10  2019-03-30T15:15:02Z   \n94           Run    8000.0  2400             0.0      8  2019-04-03T19:00:40Z   \n98           Run   10000.0  2700             0.0     12  2019-04-16T19:23:38Z   \n\n    average_speed  max_speed  average_cadence  average_hr  max_hr  \\\n0           4.579        0.0              0.0         0.0     0.0   \n2           4.651        0.0              0.0         0.0     0.0   \n3           4.541        0.0              0.0         0.0     0.0   \n6           4.579        0.0              0.0         0.0     0.0   \n7           3.922        0.0              0.0         0.0     0.0   \n8           4.562        0.0              0.0         0.0     0.0   \n10          4.550        0.0              0.0         0.0     0.0   \n11          3.814        0.0              0.0         0.0     0.0   \n13          4.608        0.0              0.0         0.0     0.0   \n16          4.655        0.0              0.0         0.0     0.0   \n17          4.638        0.0              0.0         0.0     0.0   \n20          4.579        0.0              0.0         0.0     0.0   \n21          4.316        0.0              0.0         0.0     0.0   \n25          4.651        0.0              0.0         0.0     0.0   \n26          4.465        0.0              0.0         0.0     0.0   \n27          4.664        0.0              0.0         0.0     0.0   \n28          4.078        0.0              0.0         0.0     0.0   \n30          4.682        0.0              0.0         0.0     0.0   \n33          4.127        0.0              0.0         0.0     0.0   \n35          4.533        0.0              0.0         0.0     0.0   \n37          4.587        0.0              0.0         0.0     0.0   \n38          4.290        0.0              0.0         0.0     0.0   \n40          4.575        0.0              0.0         0.0     0.0   \n41          4.331        0.0              0.0         0.0     0.0   \n42          4.673        0.0              0.0         0.0     0.0   \n43          4.413        0.0              0.0         0.0     0.0   \n44          4.862        0.0              0.0         0.0     0.0   \n46          4.575        0.0              0.0         0.0     0.0   \n72          4.071        0.0              0.0         0.0     0.0   \n73          3.846        0.0              0.0         0.0     0.0   \n74          3.800        0.0              0.0         0.0     0.0   \n75          3.751        0.0              0.0         0.0     0.0   \n92          3.401        0.0              0.0         0.0     0.0   \n93          3.448        0.0              0.0         0.0     0.0   \n94          3.333        0.0              0.0         0.0     0.0   \n98          3.704        0.0              0.0         0.0     0.0   \n\n    suffer_score location  \n0            0.0      NaN  \n2            0.0      NaN  \n3            0.0      NaN  \n6            0.0      NaN  \n7            0.0      NaN  \n8            0.0      NaN  \n10           0.0      NaN  \n11           0.0      NaN  \n13           0.0      NaN  \n16           0.0      NaN  \n17           0.0      NaN  \n20           0.0      NaN  \n21           0.0      NaN  \n25           0.0      NaN  \n26           0.0      NaN  \n27           0.0      NaN  \n28           0.0      NaN  \n30           0.0      NaN  \n33           0.0      NaN  \n35           0.0      NaN  \n37           0.0      NaN  \n38           0.0      NaN  \n40           0.0      NaN  \n41           0.0      NaN  \n42           0.0      NaN  \n43           0.0      NaN  \n44           0.0      NaN  \n46           0.0      NaN  \n72           0.0      NaN  \n73           0.0      NaN  \n74           0.0      NaN  \n75           0.0      NaN  \n92           0.0      NaN  \n93           0.0      NaN  \n94           0.0      NaN  \n98           0.0      NaN  ",
      "text/html": "<div>\n<style scoped>\n    .dataframe tbody tr th:only-of-type {\n        vertical-align: middle;\n    }\n\n    .dataframe tbody tr th {\n        vertical-align: top;\n    }\n\n    .dataframe thead th {\n        text-align: right;\n    }\n</style>\n<table border=\"1\" class=\"dataframe\">\n  <thead>\n    <tr style=\"text-align: right;\">\n      <th></th>\n      <th>activity_name</th>\n      <th>activity_id</th>\n      <th>activity_type</th>\n      <th>distance</th>\n      <th>time</th>\n      <th>elevation_gain</th>\n      <th>kudos</th>\n      <th>start_date</th>\n      <th>average_speed</th>\n      <th>max_speed</th>\n      <th>average_cadence</th>\n      <th>average_hr</th>\n      <th>max_hr</th>\n      <th>suffer_score</th>\n      <th>location</th>\n    </tr>\n  </thead>\n  <tbody>\n    <tr>\n      <th>0</th>\n      <td>Panshanger PR (18:12 - 2nd)</td>\n      <td>1807281354</td>\n      <td>Run</td>\n      <td>5000.0</td>\n      <td>1092</td>\n      <td>0.0</td>\n      <td>1</td>\n      <td>2018-08-25T08:00:00Z</td>\n      <td>4.579</td>\n      <td>0.0</td>\n      <td>0.0</td>\n      <td>0.0</td>\n      <td>0.0</td>\n      <td>0.0</td>\n      <td>NaN</td>\n    </tr>\n    <tr>\n      <th>2</th>\n      <td>Hatfield 5k Series, race 1 (17:55 - 32nd)</td>\n      <td>1821995859</td>\n      <td>Run</td>\n      <td>5000.0</td>\n      <td>1075</td>\n      <td>0.0</td>\n      <td>10</td>\n      <td>2018-09-05T18:45:13Z</td>\n      <td>4.651</td>\n      <td>0.0</td>\n      <td>0.0</td>\n      <td>0.0</td>\n      <td>0.0</td>\n      <td>0.0</td>\n      <td>NaN</td>\n    </tr>\n    <tr>\n      <th>3</th>\n      <td>Panshanger PR (18:21 - 2nd)</td>\n      <td>1826965116</td>\n      <td>Run</td>\n      <td>5000.0</td>\n      <td>1101</td>\n      <td>0.0</td>\n      <td>6</td>\n      <td>2018-09-08T08:00:56Z</td>\n      <td>4.541</td>\n      <td>0.0</td>\n      <td>0.0</td>\n      <td>0.0</td>\n      <td>0.0</td>\n      <td>0.0</td>\n      <td>NaN</td>\n    </tr>\n    <tr>\n      <th>6</th>\n      <td>Panshanger PR (18:12 - 3rd)</td>\n      <td>1842987085</td>\n      <td>Run</td>\n      <td>5000.0</td>\n      <td>1092</td>\n      <td>0.0</td>\n      <td>6</td>\n      <td>2018-09-15T08:00:00Z</td>\n      <td>4.579</td>\n      <td>0.0</td>\n      <td>0.0</td>\n      <td>0.0</td>\n      <td>0.0</td>\n      <td>0.0</td>\n      <td>NaN</td>\n    </tr>\n    <tr>\n      <th>7</th>\n      <td>Morning Run - Welwyn</td>\n      <td>1847294196</td>\n      <td>Run</td>\n      <td>10000.0</td>\n      <td>2550</td>\n      <td>0.0</td>\n      <td>5</td>\n      <td>2018-09-17T08:24:27Z</td>\n      <td>3.922</td>\n      <td>0.0</td>\n      <td>0.0</td>\n      <td>0.0</td>\n      <td>0.0</td>\n      <td>0.0</td>\n      <td>NaN</td>\n    </tr>\n    <tr>\n      <th>8</th>\n      <td>Hatfield 5k Series, race 2 (18:16 - 35th)</td>\n      <td>1853006370</td>\n      <td>Run</td>\n      <td>5000.0</td>\n      <td>1096</td>\n      <td>0.0</td>\n      <td>9</td>\n      <td>2018-09-19T18:45:00Z</td>\n      <td>4.562</td>\n      <td>0.0</td>\n      <td>0.0</td>\n      <td>0.0</td>\n      <td>0.0</td>\n      <td>0.0</td>\n      <td>NaN</td>\n    </tr>\n    <tr>\n      <th>10</th>\n      <td>Panshanger PR (18:19 - 2nd)</td>\n      <td>1857902033</td>\n      <td>Run</td>\n      <td>5000.0</td>\n      <td>1099</td>\n      <td>0.0</td>\n      <td>7</td>\n      <td>2018-09-22T08:00:00Z</td>\n      <td>4.550</td>\n      <td>0.0</td>\n      <td>0.0</td>\n      <td>0.0</td>\n      <td>0.0</td>\n      <td>0.0</td>\n      <td>NaN</td>\n    </tr>\n    <tr>\n      <th>11</th>\n      <td>Morning Run - Welwyn</td>\n      <td>1862331364</td>\n      <td>Run</td>\n      <td>10000.0</td>\n      <td>2622</td>\n      <td>0.0</td>\n      <td>6</td>\n      <td>2018-09-24T08:20:47Z</td>\n      <td>3.814</td>\n      <td>0.0</td>\n      <td>0.0</td>\n      <td>0.0</td>\n      <td>0.0</td>\n      <td>0.0</td>\n      <td>NaN</td>\n    </tr>\n    <tr>\n      <th>13</th>\n      <td>Panshanger PR (18:05 - 1st)</td>\n      <td>1872555370</td>\n      <td>Run</td>\n      <td>5000.0</td>\n      <td>1085</td>\n      <td>0.0</td>\n      <td>12</td>\n      <td>2018-09-29T08:00:00Z</td>\n      <td>4.608</td>\n      <td>0.0</td>\n      <td>0.0</td>\n      <td>0.0</td>\n      <td>0.0</td>\n      <td>0.0</td>\n      <td>NaN</td>\n    </tr>\n    <tr>\n      <th>16</th>\n      <td>Hatfield 5k Series, race 3 (17:54 - 28th)</td>\n      <td>1882361101</td>\n      <td>Run</td>\n      <td>5000.0</td>\n      <td>1074</td>\n      <td>0.0</td>\n      <td>10</td>\n      <td>2018-10-03T18:45:00Z</td>\n      <td>4.655</td>\n      <td>0.0</td>\n      <td>0.0</td>\n      <td>0.0</td>\n      <td>0.0</td>\n      <td>0.0</td>\n      <td>NaN</td>\n    </tr>\n    <tr>\n      <th>17</th>\n      <td>Ellenbrook PR (17:58 - 3rd)</td>\n      <td>1887241249</td>\n      <td>Run</td>\n      <td>5000.0</td>\n      <td>1078</td>\n      <td>0.0</td>\n      <td>9</td>\n      <td>2018-10-06T08:00:00Z</td>\n      <td>4.638</td>\n      <td>0.0</td>\n      <td>0.0</td>\n      <td>0.0</td>\n      <td>0.0</td>\n      <td>0.0</td>\n      <td>NaN</td>\n    </tr>\n    <tr>\n      <th>20</th>\n      <td>Ellenbrook PR (18:12 - 1st)</td>\n      <td>1901741659</td>\n      <td>Run</td>\n      <td>5000.0</td>\n      <td>1092</td>\n      <td>0.0</td>\n      <td>8</td>\n      <td>2018-10-13T08:00:00Z</td>\n      <td>4.579</td>\n      <td>0.0</td>\n      <td>0.0</td>\n      <td>0.0</td>\n      <td>0.0</td>\n      <td>0.0</td>\n      <td>NaN</td>\n    </tr>\n    <tr>\n      <th>21</th>\n      <td>Herts 10k (38:37 - 12th)</td>\n      <td>1904482788</td>\n      <td>Run</td>\n      <td>10000.0</td>\n      <td>2317</td>\n      <td>0.0</td>\n      <td>9</td>\n      <td>2018-10-14T09:00:00Z</td>\n      <td>4.316</td>\n      <td>0.0</td>\n      <td>0.0</td>\n      <td>0.0</td>\n      <td>0.0</td>\n      <td>0.0</td>\n      <td>NaN</td>\n    </tr>\n    <tr>\n      <th>25</th>\n      <td>Ellenbrook PR (17:55 - 3rd)</td>\n      <td>1929767235</td>\n      <td>Run</td>\n      <td>5000.0</td>\n      <td>1075</td>\n      <td>0.0</td>\n      <td>10</td>\n      <td>2018-10-27T08:00:10Z</td>\n      <td>4.651</td>\n      <td>0.0</td>\n      <td>0.0</td>\n      <td>0.0</td>\n      <td>0.0</td>\n      <td>0.0</td>\n      <td>NaN</td>\n    </tr>\n    <tr>\n      <th>26</th>\n      <td>Herts XC League - Cheshunt, race 1 (30:02 - 48th)</td>\n      <td>1932824805</td>\n      <td>Run</td>\n      <td>8046.7</td>\n      <td>1802</td>\n      <td>0.0</td>\n      <td>10</td>\n      <td>2018-10-28T11:00:00Z</td>\n      <td>4.465</td>\n      <td>0.0</td>\n      <td>0.0</td>\n      <td>0.0</td>\n      <td>0.0</td>\n      <td>0.0</td>\n      <td>NaN</td>\n    </tr>\n    <tr>\n      <th>27</th>\n      <td>Ellenbrook PR (17:52 - 4th)</td>\n      <td>1942935742</td>\n      <td>Run</td>\n      <td>5000.0</td>\n      <td>1072</td>\n      <td>0.0</td>\n      <td>13</td>\n      <td>2018-11-03T09:00:00Z</td>\n      <td>4.664</td>\n      <td>0.0</td>\n      <td>0.0</td>\n      <td>0.0</td>\n      <td>0.0</td>\n      <td>0.0</td>\n      <td>NaN</td>\n    </tr>\n    <tr>\n      <th>28</th>\n      <td>Royal Parks 10k Winter Series - Greenwich Park...</td>\n      <td>1945373292</td>\n      <td>Run</td>\n      <td>10000.0</td>\n      <td>2452</td>\n      <td>0.0</td>\n      <td>13</td>\n      <td>2018-11-04T09:30:27Z</td>\n      <td>4.078</td>\n      <td>0.0</td>\n      <td>0.0</td>\n      <td>0.0</td>\n      <td>0.0</td>\n      <td>0.0</td>\n      <td>NaN</td>\n    </tr>\n    <tr>\n      <th>30</th>\n      <td>Ellenbrook PR (17:48 - 5th)</td>\n      <td>1956322981</td>\n      <td>Run</td>\n      <td>5000.0</td>\n      <td>1068</td>\n      <td>0.0</td>\n      <td>12</td>\n      <td>2018-11-10T09:00:00Z</td>\n      <td>4.682</td>\n      <td>0.0</td>\n      <td>0.0</td>\n      <td>0.0</td>\n      <td>0.0</td>\n      <td>0.0</td>\n      <td>NaN</td>\n    </tr>\n    <tr>\n      <th>33</th>\n      <td>Herts Half Marathon (1:25:13 - 23rd)</td>\n      <td>1971573913</td>\n      <td>Run</td>\n      <td>21100.0</td>\n      <td>5113</td>\n      <td>0.0</td>\n      <td>11</td>\n      <td>2018-11-18T09:30:00Z</td>\n      <td>4.127</td>\n      <td>0.0</td>\n      <td>0.0</td>\n      <td>0.0</td>\n      <td>0.0</td>\n      <td>0.0</td>\n      <td>NaN</td>\n    </tr>\n    <tr>\n      <th>35</th>\n      <td>Hatfield 5 (29:25 - 27th)</td>\n      <td>1984320686</td>\n      <td>Run</td>\n      <td>8000.0</td>\n      <td>1765</td>\n      <td>0.0</td>\n      <td>14</td>\n      <td>2018-11-25T10:00:00Z</td>\n      <td>4.533</td>\n      <td>0.0</td>\n      <td>0.0</td>\n      <td>0.0</td>\n      <td>0.0</td>\n      <td>0.0</td>\n      <td>NaN</td>\n    </tr>\n    <tr>\n      <th>37</th>\n      <td>Ellenbrook PR (18:10 - 4th)</td>\n      <td>1994128219</td>\n      <td>Run</td>\n      <td>5000.0</td>\n      <td>1090</td>\n      <td>0.0</td>\n      <td>9</td>\n      <td>2018-12-01T09:00:00Z</td>\n      <td>4.587</td>\n      <td>0.0</td>\n      <td>0.0</td>\n      <td>0.0</td>\n      <td>0.0</td>\n      <td>0.0</td>\n      <td>NaN</td>\n    </tr>\n    <tr>\n      <th>38</th>\n      <td>Herts XC League - Trent Park, race 2 (31:05 - ...</td>\n      <td>1996389369</td>\n      <td>Run</td>\n      <td>8000.0</td>\n      <td>1865</td>\n      <td>0.0</td>\n      <td>12</td>\n      <td>2018-12-02T10:30:00Z</td>\n      <td>4.290</td>\n      <td>0.0</td>\n      <td>0.0</td>\n      <td>0.0</td>\n      <td>0.0</td>\n      <td>0.0</td>\n      <td>NaN</td>\n    </tr>\n    <tr>\n      <th>40</th>\n      <td>Ellenbrook PR (18:13 - 3rd)</td>\n      <td>2006263877</td>\n      <td>Run</td>\n      <td>5000.0</td>\n      <td>1093</td>\n      <td>0.0</td>\n      <td>10</td>\n      <td>2018-12-08T09:00:00Z</td>\n      <td>4.575</td>\n      <td>0.0</td>\n      <td>0.0</td>\n      <td>0.0</td>\n      <td>0.0</td>\n      <td>0.0</td>\n      <td>NaN</td>\n    </tr>\n    <tr>\n      <th>41</th>\n      <td>Royal Parks 10k Winter Series - Regent’s Park,...</td>\n      <td>2008814980</td>\n      <td>Run</td>\n      <td>10000.0</td>\n      <td>2309</td>\n      <td>0.0</td>\n      <td>13</td>\n      <td>2018-12-09T09:00:56Z</td>\n      <td>4.331</td>\n      <td>0.0</td>\n      <td>0.0</td>\n      <td>0.0</td>\n      <td>0.0</td>\n      <td>0.0</td>\n      <td>NaN</td>\n    </tr>\n    <tr>\n      <th>42</th>\n      <td>Ellenbrook PR (17:50 - 3rd)</td>\n      <td>2018009843</td>\n      <td>Run</td>\n      <td>5000.0</td>\n      <td>1070</td>\n      <td>0.0</td>\n      <td>14</td>\n      <td>2018-12-15T09:00:00Z</td>\n      <td>4.673</td>\n      <td>0.0</td>\n      <td>0.0</td>\n      <td>0.0</td>\n      <td>0.0</td>\n      <td>0.0</td>\n      <td>NaN</td>\n    </tr>\n    <tr>\n      <th>43</th>\n      <td>Herts XC League - Stevenage, race 3 (30:13 - 5...</td>\n      <td>2020910026</td>\n      <td>Run</td>\n      <td>8000.0</td>\n      <td>1813</td>\n      <td>0.0</td>\n      <td>6</td>\n      <td>2018-12-16T10:30:00Z</td>\n      <td>4.413</td>\n      <td>0.0</td>\n      <td>0.0</td>\n      <td>0.0</td>\n      <td>0.0</td>\n      <td>0.0</td>\n      <td>NaN</td>\n    </tr>\n    <tr>\n      <th>44</th>\n      <td>3k time trial - GCR Intervals</td>\n      <td>2027065200</td>\n      <td>Run</td>\n      <td>3000.0</td>\n      <td>617</td>\n      <td>0.0</td>\n      <td>6</td>\n      <td>2018-12-20T19:00:00Z</td>\n      <td>4.862</td>\n      <td>0.0</td>\n      <td>0.0</td>\n      <td>0.0</td>\n      <td>0.0</td>\n      <td>0.0</td>\n      <td>NaN</td>\n    </tr>\n    <tr>\n      <th>46</th>\n      <td>Panshanger PR (18:13 - 8th)</td>\n      <td>2034563513</td>\n      <td>Run</td>\n      <td>5000.0</td>\n      <td>1093</td>\n      <td>0.0</td>\n      <td>11</td>\n      <td>2018-12-25T09:00:00Z</td>\n      <td>4.575</td>\n      <td>0.0</td>\n      <td>0.0</td>\n      <td>0.0</td>\n      <td>0.0</td>\n      <td>0.0</td>\n      <td>NaN</td>\n    </tr>\n    <tr>\n      <th>72</th>\n      <td>Treadmill</td>\n      <td>2124527513</td>\n      <td>Run</td>\n      <td>8000.0</td>\n      <td>1965</td>\n      <td>0.0</td>\n      <td>9</td>\n      <td>2019-02-04T21:00:00Z</td>\n      <td>4.071</td>\n      <td>0.0</td>\n      <td>0.0</td>\n      <td>0.0</td>\n      <td>0.0</td>\n      <td>0.0</td>\n      <td>NaN</td>\n    </tr>\n    <tr>\n      <th>73</th>\n      <td>Treadmill</td>\n      <td>2126745486</td>\n      <td>Run</td>\n      <td>9000.0</td>\n      <td>2340</td>\n      <td>0.0</td>\n      <td>8</td>\n      <td>2019-02-05T20:34:57Z</td>\n      <td>3.846</td>\n      <td>0.0</td>\n      <td>0.0</td>\n      <td>0.0</td>\n      <td>0.0</td>\n      <td>0.0</td>\n      <td>NaN</td>\n    </tr>\n    <tr>\n      <th>74</th>\n      <td>Treadmill</td>\n      <td>2131109737</td>\n      <td>Run</td>\n      <td>13679.5</td>\n      <td>3600</td>\n      <td>0.0</td>\n      <td>6</td>\n      <td>2019-02-07T20:35:41Z</td>\n      <td>3.800</td>\n      <td>0.0</td>\n      <td>0.0</td>\n      <td>0.0</td>\n      <td>0.0</td>\n      <td>0.0</td>\n      <td>NaN</td>\n    </tr>\n    <tr>\n      <th>75</th>\n      <td>Treadmill</td>\n      <td>2132961358</td>\n      <td>Run</td>\n      <td>16093.5</td>\n      <td>4290</td>\n      <td>0.0</td>\n      <td>8</td>\n      <td>2019-02-08T20:16:57Z</td>\n      <td>3.751</td>\n      <td>0.0</td>\n      <td>0.0</td>\n      <td>0.0</td>\n      <td>0.0</td>\n      <td>0.0</td>\n      <td>NaN</td>\n    </tr>\n    <tr>\n      <th>92</th>\n      <td>Treadmill (easy)</td>\n      <td>2248034095</td>\n      <td>Run</td>\n      <td>10000.0</td>\n      <td>2940</td>\n      <td>0.0</td>\n      <td>3</td>\n      <td>2019-03-28T20:56:14Z</td>\n      <td>3.401</td>\n      <td>0.0</td>\n      <td>0.0</td>\n      <td>0.0</td>\n      <td>0.0</td>\n      <td>0.0</td>\n      <td>NaN</td>\n    </tr>\n    <tr>\n      <th>93</th>\n      <td>Treadmill (easy)</td>\n      <td>2252382209</td>\n      <td>Run</td>\n      <td>15000.0</td>\n      <td>4350</td>\n      <td>0.0</td>\n      <td>10</td>\n      <td>2019-03-30T15:15:02Z</td>\n      <td>3.448</td>\n      <td>0.0</td>\n      <td>0.0</td>\n      <td>0.0</td>\n      <td>0.0</td>\n      <td>0.0</td>\n      <td>NaN</td>\n    </tr>\n    <tr>\n      <th>94</th>\n      <td>Treadmill (easy)</td>\n      <td>2262946903</td>\n      <td>Run</td>\n      <td>8000.0</td>\n      <td>2400</td>\n      <td>0.0</td>\n      <td>8</td>\n      <td>2019-04-03T19:00:40Z</td>\n      <td>3.333</td>\n      <td>0.0</td>\n      <td>0.0</td>\n      <td>0.0</td>\n      <td>0.0</td>\n      <td>0.0</td>\n      <td>NaN</td>\n    </tr>\n    <tr>\n      <th>98</th>\n      <td>Treadmill</td>\n      <td>2295098332</td>\n      <td>Run</td>\n      <td>10000.0</td>\n      <td>2700</td>\n      <td>0.0</td>\n      <td>12</td>\n      <td>2019-04-16T19:23:38Z</td>\n      <td>3.704</td>\n      <td>0.0</td>\n      <td>0.0</td>\n      <td>0.0</td>\n      <td>0.0</td>\n      <td>0.0</td>\n      <td>NaN</td>\n    </tr>\n  </tbody>\n</table>\n</div>"
     },
     "metadata": {},
     "execution_count": 29
    }
   ],
   "source": [
    "activities_merged.loc[activities_merged['location'].isna()]"
   ]
  },
  {
   "cell_type": "markdown",
   "metadata": {},
   "source": [
    "# Data Cleaning"
   ]
  },
  {
   "cell_type": "code",
   "execution_count": 2,
   "metadata": {},
   "outputs": [],
   "source": [
    "import numpy as np\n",
    "import pandas as pd\n",
    "import re"
   ]
  },
  {
   "cell_type": "code",
   "execution_count": 3,
   "metadata": {},
   "outputs": [],
   "source": [
    "activities = pd.read_csv('activities.csv')"
   ]
  },
  {
   "cell_type": "code",
   "execution_count": 5,
   "metadata": {},
   "outputs": [],
   "source": [
    "def interval_pattern_matcher(activity_name):\n",
    "    key_words = ['Intervals', 'Track', 'Yasso']\n",
    "    for key_word in key_words:\n",
    "        if key_word in activity_name:\n",
    "            return True\n",
    "        else:\n",
    "            continue\n",
    "    return False"
   ]
  },
  {
   "cell_type": "code",
   "execution_count": 6,
   "metadata": {},
   "outputs": [],
   "source": [
    "activities['run_type'] = ''\n",
    "for index, row in activities.iterrows():\n",
    "    if interval_pattern_matcher(row['activity_name']) == True:\n",
    "        activities.at[index, 'run_type'] = 'I'\n",
    "    else:\n",
    "        if row['distance'] < 8000:\n",
    "            activities.at[index, 'run_type'] = 'SR'\n",
    "        elif row['distance'] < 16000:\n",
    "            activities.at[index, 'run_type'] = 'MR'\n",
    "        else:\n",
    "            activities.at[index, 'run_type'] = 'LR'"
   ]
  },
  {
   "cell_type": "code",
   "execution_count": 7,
   "metadata": {},
   "outputs": [],
   "source": [
    "def get_position(activity_name):\n",
    "    position_pattern = re.compile('.*\\s(\\d+)[a-z]{2}.*')\n",
    "    position_pattern_2 = re.compile('.*\\((\\d+)[a-z]{2}.*')\n",
    "    if len(re.findall(position_pattern, activity_name)) == 1:\n",
    "        return re.findall(position_pattern, activity_name)[0]\n",
    "    elif len(re.findall(position_pattern_2, activity_name)) == 1:\n",
    "        return re.findall(position_pattern_2, activity_name)[0]\n",
    "    else:\n",
    "        return 0"
   ]
  },
  {
   "cell_type": "code",
   "execution_count": 8,
   "metadata": {},
   "outputs": [],
   "source": [
    "activities['position'] = activities['activity_name'].map(lambda x: int(get_position(x)))"
   ]
  },
  {
   "cell_type": "code",
   "execution_count": 9,
   "metadata": {},
   "outputs": [],
   "source": [
    "def parkrun_pattern_matcher(activity_name):\n",
    "    if ('PR' in activity_name) & ('WU' not in activity_name):\n",
    "        return True\n",
    "    else:\n",
    "        return False"
   ]
  },
  {
   "cell_type": "code",
   "execution_count": 10,
   "metadata": {},
   "outputs": [],
   "source": [
    "activities['event_type'] = ''\n",
    "for index, row in activities.iterrows():\n",
    "    if parkrun_pattern_matcher(row['activity_name']) == True:\n",
    "        activities.at[index, 'event_type'] = 'PR'\n",
    "    else:\n",
    "        if row['position'] > 0:\n",
    "            if 'XC' in row['activity_name']:\n",
    "                activities.at[index, 'event_type'] = 'XCR'\n",
    "            else:\n",
    "                activities.at[index, 'event_type'] = 'RR'\n",
    "        elif row['run_type'] == 'I':\n",
    "            activities.at[index, 'event_type'] = 'I'\n",
    "        else:\n",
    "            activities.at[index, 'event_type'] = 'W'"
   ]
  },
  {
   "cell_type": "code",
   "execution_count": 86,
   "metadata": {},
   "outputs": [],
   "source": [
    "activities['location'] = ''\n",
    "for index, row in activities.iterrows():\n",
    "    if row['event_type'] == 'PR':\n",
    "        location_pattern = re.compile('(\\w+)\\s.*')\n",
    "        activities.at[index, 'location'] = re.findall(location_pattern, row['activity_name'])[0]\n",
    "    elif row['event_type'] == 'XCR':\n",
    "        activities.at[index, 'location'] = 'Other'\n",
    "    elif row['event_type'] == 'W':\n",
    "        location_pattern_1 = re.compile('.*\\s-\\s(\\w+)')\n",
    "        location_pattern_2 = re.compile('Treadmill.*')\n",
    "        if len(re.findall(location_pattern_1, row['activity_name'])) == 1:\n",
    "            activities.at[index, 'location'] = re.findall(location_pattern_1, row['activity_name'])[0]\n",
    "        elif len(re.findall(location_pattern_2, row['activity_name'])) == 1:\n",
    "            activities.at[index, 'location'] = 'Treadmill'\n",
    "        else:\n",
    "            activities.at[index, 'location'] = 'Other'    \n",
    "    elif row['event_type'] == 'I':\n",
    "        location_pattern = re.compile('Track.*')\n",
    "        if len(re.findall(location_pattern, row['activity_name'])) == 1:\n",
    "            activities.at[index, 'location'] = 'Track'\n",
    "        else:\n",
    "            activities.at[index, 'location'] = 'Welwyn'\n",
    "    else:\n",
    "        location_pattern_1 = re.compile('Hatfield\\s5.*')\n",
    "        if len(re.findall(location_pattern_1, row['activity_name'])) == 1:\n",
    "            activities.at[index, 'location'] = 'Hatfield'\n",
    "        else:\n",
    "            activities.at[index, 'location'] = 'Other'"
   ]
  },
  {
   "cell_type": "code",
   "execution_count": 89,
   "metadata": {},
   "outputs": [],
   "source": [
    "activities['location'] = activities['location'].map(lambda x: 'Hatfield' if x == 'Ellenbrook' else x)\n",
    "activities['location'] = activities['location'].map(lambda x: 'Other' if x not in ['Welwyn', 'Panshanger', 'Hatfield', 'Treadmill', 'Track'] else x)"
   ]
  },
  {
   "cell_type": "code",
   "execution_count": null,
   "metadata": {},
   "outputs": [],
   "source": []
  }
 ]
}