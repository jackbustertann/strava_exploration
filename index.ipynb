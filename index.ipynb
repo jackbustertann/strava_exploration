{
 "nbformat": 4,
 "nbformat_minor": 2,
 "metadata": {
  "language_info": {
   "name": "python",
   "codemirror_mode": {
    "name": "ipython",
    "version": 3
   },
   "version": "3.7.3-final"
  },
  "orig_nbformat": 2,
  "file_extension": ".py",
  "mimetype": "text/x-python",
  "name": "python",
  "npconvert_exporter": "python",
  "pygments_lexer": "ipython3",
  "version": 3,
  "kernelspec": {
   "name": "python37364bitbaseconda29883d8d1f6d40a8a22efcd61dfbad11",
   "display_name": "Python 3.7.3 64-bit ('base': conda)"
  }
 },
 "cells": [
  {
   "cell_type": "markdown",
   "metadata": {},
   "source": [
    "# Running Data Exploration"
   ]
  },
  {
   "cell_type": "markdown",
   "execution_count": null,
   "metadata": {},
   "outputs": [],
   "source": [
    "## Importing libaries"
   ]
  },
  {
   "cell_type": "code",
   "execution_count": 3,
   "metadata": {},
   "outputs": [],
   "source": [
    "import numpy as np\n",
    "import pandas as pd\n",
    "import requests\n",
    "import json"
   ]
  },
  {
   "cell_type": "markdown",
   "execution_count": null,
   "metadata": {},
   "outputs": [],
   "source": [
    "## Storing API credentials"
   ]
  },
  {
   "cell_type": "code",
   "execution_count": 4,
   "metadata": {},
   "outputs": [],
   "source": [
    "api_credentials = json.load(open('.secret/strava_api_credentials.json', 'r'))\n",
    "client_id = api_credentials['client_id']\n",
    "client_secret = api_credentials['client_secret']\n",
    "access_token = api_credentials['access_token']\n",
    "refresh_token = api_credentials['refresh_token']"
   ]
  },
  {
   "cell_type": "markdown",
   "metadata": {},
   "source": [
    "## Storing request fundementals"
   ]
  },
  {
   "cell_type": "code",
   "execution_count": 3,
   "metadata": {},
   "outputs": [],
   "source": [
    "strava_base_url = \"https://www.strava.com/api/v3\"\n",
    "headers = {\"Authorization\": \"Bearer {}\".format(access_token)}"
   ]
  },
  {
   "cell_type": "markdown",
   "execution_count": null,
   "metadata": {},
   "outputs": [],
   "source": [
    "## Client authentication"
   ]
  },
  {
   "cell_type": "code",
   "execution_count": null,
   "metadata": {},
   "outputs": [],
   "source": [
    "authorisation_code = \"ad9c4b97c1bcb1e9ea035e95aa2081691bf53f73\"\n",
    "req = requests.post(\"https://www.strava.com/oauth/token?client_id={}&client_secret={}&code={}&grant_type=authororization_code\".format(client_id, client_secret, refresh_token))"
   ]
  },
  {
   "cell_type": "markdown",
   "metadata": {},
   "source": [
    "## Refresh token exchange"
   ]
  },
  {
   "cell_type": "code",
   "execution_count": 5,
   "metadata": {},
   "outputs": [
    {
     "data": {
      "text/plain": "{'token_type': 'Bearer',\n 'access_token': '51a38b6eba1c36cf43e8736e5d4d161e5876b0d2',\n 'expires_at': 1584061823,\n 'expires_in': 21600,\n 'refresh_token': 'f437acf70f96a2e3cadbc2416b63f2855fa9dfee'}"
     },
     "execution_count": 5,
     "metadata": {},
     "output_type": "execute_result"
    }
   ],
   "source": [
    "req = requests.post(\"https://www.strava.com/oauth/token?client_id={}&client_secret={}&refresh_token={}&grant_type=refresh_token\".format(client_id, client_secret, refresh_token))\n",
    "req.json()"
   ]
  },
  {
   "cell_type": "markdown",
   "execution_count": null,
   "metadata": {},
   "outputs": [],
   "source": [
    "# Getting basic activity information"
   ]
  },
  {
   "cell_type": "markdown",
   "metadata": {},
   "source": [
    "## Example response"
   ]
  },
  {
   "cell_type": "code",
   "execution_count": 4,
   "metadata": {},
   "outputs": [
    {
     "data": {
      "text/plain": "{'resource_state': 2,\n 'athlete': {'id': 34272639, 'resource_state': 1},\n 'name': 'Evening Run - Welwyn ',\n 'distance': 9476.9,\n 'moving_time': 2776,\n 'elapsed_time': 2776,\n 'total_elevation_gain': 144.4,\n 'type': 'Run',\n 'workout_type': 3,\n 'id': 3134814172,\n 'external_id': 'garmin_push_4594646451',\n 'upload_id': 3349071297,\n 'start_date': '2020-02-26T20:09:31Z',\n 'start_date_local': '2020-02-26T20:09:31Z',\n 'timezone': '(GMT+00:00) Europe/London',\n 'utc_offset': 0.0,\n 'start_latlng': [51.821439, -0.205277],\n 'end_latlng': [51.821475, -0.20266],\n 'location_city': None,\n 'location_state': None,\n 'location_country': None,\n 'start_latitude': 51.821439,\n 'start_longitude': -0.205277,\n 'achievement_count': 0,\n 'kudos_count': 8,\n 'comment_count': 0,\n 'athlete_count': 1,\n 'photo_count': 0,\n 'map': {'id': 'a3134814172',\n  'summary_polyline': '}jh{H~ag@Ek@Uc@WWw@_@SQSWSs@Gq@BmANw@Tc@\\\\Wb@Kz@CRBDNLfANx@Vh@Z`@JVHZOnAGnBAv@D`A?t@H`@LXHHJ?FID[AYIc@Ym@IYA{@Hq@@yAB[FQJCXBXZp@lANj@R~@HvAAz@QfBS`EIf@Cp@B|@R~B^|ATb@NP^X|@b@nA`AbATHFFL@^EXOf@SLMRK`@[vCOjCWbBM|AMr@?XFRBF\\\\VZDHGHUJi@LcBj@eETaC@a@VaCNc@fBmD?QKo@@Q`@o@^{@Ny@B_APk@JEd@F\\\\ZNTVl@Z`Ab@~@\\\\f@XVx@d@\\\\HVCLIHOD]b@mFFgA@[MeAUo@]e@u@e@KW?]n@iCFg@?[KyAg@iBIe@Ea@FOJI~@Yd@Cv@RzB|@dAPdBd@t@Eh@M\\\\Ql@c@ND^^VB\\\\I^YJCb@^|Ap@f@ZP\\\\H^Br@EvBQ|AENGFs@Ke@?w@Hm@VQLUVKXObBAv@@dAHn@Ab@BNl@vBFD^YzB[|@[bA{@fAuAh@i@v@?h@FXLp@Nr@ZPNFVAPI`@g@dBi@hAu@nBSz@Il@@b@Jb@jA|CPRZJN?VIj@{@~@}@l@w@Xg@^a@d@cANMHBHJLVJ`@HHJAZWJCXAVHj@h@^z@TrARzBPv@P|B\\\\jBFz@@f@ERGN[Xs@VcBV]?UGY_@KYKg@E{@Hm@Ng@BS?oGGqAUyBWiBEQGII@KHqEnFc@r@c@`@OHU@II]k@_AmCIg@?k@Ba@\\\\sArAcDTq@\\\\eBB[GS_Ac@iAYu@E]Dg@ZmBnB]VaBz@eATk@F[TE?GMm@qBKiABgDFkAHYJSNQ^Ob@K~A?j@PP?JMDQHu@BiBAmBKk@S]KMgAg@]W[IY@cA^a@CSMOSUu@?SLg@J{@VqC?QEYB[F[TY\\\\aCZcDRuAX}CzAmL~@wIJcBAmAOuAK]MMMCKBq@n@sB~@iBZiAH{@K_Aa@u@Uu@m@oAeBa@Om@s@q@c@}@KaADq@Lm@\\\\g@f@k@p@cAhBMZk@rEGpAKt@E~@Ef@[bCY|AG|@?bAEL]b@S^Kj@q@n@}AfCi@j@_DpB_BtAe@VMVONk@XoAh@INM~@IJGD',\n  'resource_state': 2},\n 'trainer': False,\n 'commute': False,\n 'manual': False,\n 'private': False,\n 'visibility': 'everyone',\n 'flagged': False,\n 'gear_id': None,\n 'from_accepted_tag': False,\n 'upload_id_str': '3349071297',\n 'average_speed': 3.414,\n 'max_speed': 4.9,\n 'average_cadence': 79.4,\n 'has_heartrate': True,\n 'average_heartrate': 137.2,\n 'max_heartrate': 163.0,\n 'heartrate_opt_out': False,\n 'display_hide_heartrate_option': True,\n 'elev_high': 123.1,\n 'elev_low': 65.7,\n 'pr_count': 0,\n 'total_photo_count': 0,\n 'has_kudoed': False,\n 'suffer_score': 25.0}"
     },
     "execution_count": 4,
     "metadata": {},
     "output_type": "execute_result"
    }
   ],
   "source": [
    "req = requests.get(\"{}/athlete/activities\".format(strava_base_url), headers = headers)\n",
    "req.json()[0]"
   ]
  },
  {
   "cell_type": "markdown",
   "metadata": {},
   "source": [
    "## Looping over activities"
   ]
  },
  {
   "cell_type": "code",
   "execution_count": 20,
   "metadata": {},
   "outputs": [],
   "source": [
    "activities = []\n",
    "i = 1\n",
    "# first request\n",
    "req = requests.get(\"{}/athlete/activities\".format(strava_base_url), headers = headers, params = {'page': i})\n",
    "# looping over user activities in batches of 30 until request is empty\n",
    "while len(req.json()) > 0:\n",
    "    # storing attributes from each activity in a dictionary and adding to a list\n",
    "    for activity in req.json():\n",
    "        # extracting attributes from request, padding missing values with empty strings\n",
    "        activity_name, activity_id, activity_type = activity['name'], activity['id'], activity['type']\n",
    "        distance, time = activity.get('distance', np.nan), activity.get('elapsed_time', np.nan)\n",
    "        elevation_gain = activity.get('total_elevation_gain', np.nan)\n",
    "        kudos = activity.get('kudos_count', np.nan)\n",
    "        start_date = activity.get('start_date', np.nan)\n",
    "        average_speed, max_speed, average_cadence = activity.get('average_speed', np.nan), activity.get('max_speed', np.nan), activity.get('average_cadence', np.nan)\n",
    "        average_hr, max_hr = activity.get('average_heartrate', np.nan), activity.get('max_heartrate', np.nan)\n",
    "        suffer_score = activity.get('suffer_score', np.nan)\n",
    "        # storing attributes in a dictionary\n",
    "        activity_attributes = {'activity_name': activity_name, 'activity_id': activity_id, 'activity_type': activity_type, 'distance': distance, 'time': time, 'elevation_gain': elevation_gain, 'kudos': kudos, 'start_date': start_date, 'average_speed': average_speed, 'max_speed': max_speed,\n",
    "'average_cadence': average_cadence, 'average_hr': average_hr, 'max_hr': max_hr, 'suffer_score': suffer_score}\n",
    "        # appending dictionary to list\n",
    "        activities.append(activity_attributes)\n",
    "    # iterating to next page\n",
    "    i += 1\n",
    "    req = requests.get(\"{}/athlete/activities\".format(strava_base_url), headers = headers, params = {'page': i})"
   ]
  },
  {
   "cell_type": "code",
   "execution_count": null,
   "metadata": {},
   "outputs": [],
   "source": []
  },
  {
   "cell_type": "code",
   "execution_count": 21,
   "metadata": {},
   "outputs": [],
   "source": [
    "activities_df = pd.DataFrame(activities)\n",
    "activities_df = activities_df.loc[activities_df['activity_type'] == 'Run']"
   ]
  },
  {
   "cell_type": "code",
   "execution_count": 9,
   "metadata": {},
   "outputs": [],
   "source": [
    "activities_df.to_csv('activities.csv')"
   ]
  },
  {
   "cell_type": "code",
   "execution_count": 2,
   "metadata": {},
   "outputs": [
    {
     "data": {
      "text/html": "<div>\n<style scoped>\n    .dataframe tbody tr th:only-of-type {\n        vertical-align: middle;\n    }\n\n    .dataframe tbody tr th {\n        vertical-align: top;\n    }\n\n    .dataframe thead th {\n        text-align: right;\n    }\n</style>\n<table border=\"1\" class=\"dataframe\">\n  <thead>\n    <tr style=\"text-align: right;\">\n      <th></th>\n      <th>activity_id</th>\n      <th>activity_name</th>\n      <th>average_cadence</th>\n      <th>average_hr</th>\n      <th>average_speed</th>\n      <th>distance</th>\n      <th>elevation_gain</th>\n      <th>kudos</th>\n      <th>max_hr</th>\n      <th>max_speed</th>\n      <th>start_date</th>\n      <th>suffer_score</th>\n      <th>time</th>\n    </tr>\n  </thead>\n  <tbody>\n    <tr>\n      <th>0</th>\n      <td>3134814172</td>\n      <td>Evening Run - Welwyn</td>\n      <td>79.4</td>\n      <td>137.2</td>\n      <td>3.414</td>\n      <td>9476.9</td>\n      <td>144.4</td>\n      <td>8</td>\n      <td>163.0</td>\n      <td>4.9</td>\n      <td>2020-02-26T20:09:31Z</td>\n      <td>25.0</td>\n      <td>2776</td>\n    </tr>\n    <tr>\n      <th>1</th>\n      <td>3131802476</td>\n      <td>Tuesday intervals (including WU/WD)</td>\n      <td>84.5</td>\n      <td>153.3</td>\n      <td>3.507</td>\n      <td>11244.2</td>\n      <td>56.2</td>\n      <td>15</td>\n      <td>186.0</td>\n      <td>7.4</td>\n      <td>2020-02-25T18:34:37Z</td>\n      <td>69.0</td>\n      <td>4038</td>\n    </tr>\n    <tr>\n      <th>2</th>\n      <td>3124325868</td>\n      <td>Morning Run - Welwyn</td>\n      <td>81.9</td>\n      <td>140.3</td>\n      <td>3.514</td>\n      <td>9944.3</td>\n      <td>118.4</td>\n      <td>10</td>\n      <td>170.0</td>\n      <td>5.2</td>\n      <td>2020-02-23T08:34:33Z</td>\n      <td>34.0</td>\n      <td>2830</td>\n    </tr>\n    <tr>\n      <th>3</th>\n      <td>3121033650</td>\n      <td>Panshanger PR (18:11 - 1st)</td>\n      <td>85.7</td>\n      <td>173.4</td>\n      <td>4.490</td>\n      <td>5006.7</td>\n      <td>36.2</td>\n      <td>16</td>\n      <td>195.0</td>\n      <td>7.1</td>\n      <td>2020-02-22T09:02:55Z</td>\n      <td>58.0</td>\n      <td>1238</td>\n    </tr>\n    <tr>\n      <th>4</th>\n      <td>3121032425</td>\n      <td>PR WU</td>\n      <td>81.0</td>\n      <td>141.0</td>\n      <td>3.347</td>\n      <td>2604.2</td>\n      <td>2.1</td>\n      <td>1</td>\n      <td>158.0</td>\n      <td>5.3</td>\n      <td>2020-02-22T08:42:49Z</td>\n      <td>9.0</td>\n      <td>778</td>\n    </tr>\n  </tbody>\n</table>\n</div>",
      "text/plain": "   activity_id                        activity_name  average_cadence  \\\n0   3134814172                Evening Run - Welwyn              79.4   \n1   3131802476  Tuesday intervals (including WU/WD)             84.5   \n2   3124325868                Morning Run - Welwyn              81.9   \n3   3121033650          Panshanger PR (18:11 - 1st)             85.7   \n4   3121032425                                PR WU             81.0   \n\n   average_hr  average_speed  distance  elevation_gain  kudos  max_hr  \\\n0       137.2          3.414    9476.9           144.4      8   163.0   \n1       153.3          3.507   11244.2            56.2     15   186.0   \n2       140.3          3.514    9944.3           118.4     10   170.0   \n3       173.4          4.490    5006.7            36.2     16   195.0   \n4       141.0          3.347    2604.2             2.1      1   158.0   \n\n   max_speed            start_date  suffer_score  time  \n0        4.9  2020-02-26T20:09:31Z          25.0  2776  \n1        7.4  2020-02-25T18:34:37Z          69.0  4038  \n2        5.2  2020-02-23T08:34:33Z          34.0  2830  \n3        7.1  2020-02-22T09:02:55Z          58.0  1238  \n4        5.3  2020-02-22T08:42:49Z           9.0   778  "
     },
     "execution_count": 2,
     "metadata": {},
     "output_type": "execute_result"
    }
   ],
   "source": [
    "activities_df = pd.read_csv('activities.csv').drop(columns = ['Unnamed: 0', 'activity_type'])\n",
    "activities_df.head()"
   ]
  },
  {
   "cell_type": "markdown",
   "metadata": {},
   "source": [
    "# Getting activity weather information"
   ]
  },
  {
   "cell_type": "markdown",
   "metadata": {},
   "source": [
    "## Storing API credentials"
   ]
  },
  {
   "cell_type": "code",
   "execution_count": 40,
   "metadata": {},
   "outputs": [],
   "source": [
    "ds_key = json.load(open('.secret/ds_api_credentials.json', 'r'))['key']"
   ]
  },
  {
   "cell_type": "markdown",
   "metadata": {},
   "source": [
    "## Storing request fundementals"
   ]
  },
  {
   "cell_type": "code",
   "execution_count": 41,
   "metadata": {},
   "outputs": [],
   "source": [
    "ds_base_url = \"https://api.darksky.net/forecast\"\n",
    "exclude_blocks = \"minutely,hourly,daily,alerts\""
   ]
  },
  {
   "cell_type": "markdown",
   "metadata": {},
   "source": [
    "## Storing activity ids"
   ]
  },
  {
   "cell_type": "code",
   "execution_count": 11,
   "metadata": {},
   "outputs": [],
   "source": [
    "activity_ids = list(activities_df['activity_id'])"
   ]
  },
  {
   "cell_type": "markdown",
   "metadata": {},
   "source": [
    "## Example response"
   ]
  },
  {
   "cell_type": "code",
   "execution_count": 43,
   "metadata": {},
   "outputs": [
    {
     "data": {
      "text/plain": "{'latitude': 51.821439,\n 'longitude': -0.205277,\n 'timezone': 'Europe/London',\n 'currently': {'time': 1582747771,\n  'summary': 'Mostly Cloudy',\n  'icon': 'partly-cloudy-night',\n  'precipIntensity': 0,\n  'precipProbability': 0,\n  'temperature': 4.03,\n  'apparentTemperature': 0.57,\n  'dewPoint': 1.56,\n  'humidity': 0.84,\n  'pressure': 1007.4,\n  'windSpeed': 4.15,\n  'windGust': 8.71,\n  'windBearing': 199,\n  'cloudCover': 0.77,\n  'uvIndex': 0,\n  'visibility': 16.093,\n  'ozone': 366.2},\n 'flags': {'sources': ['cmc', 'gfs', 'icon', 'isd', 'madis'],\n  'nearest-station': 8.682,\n  'units': 'si'},\n 'offset': 0}"
     },
     "execution_count": 43,
     "metadata": {},
     "output_type": "execute_result"
    }
   ],
   "source": [
    "strava_req = requests.get(\"{}/activities/{}\".format(strava_base_url, activity_ids[0]), headers = headers).json()\n",
    "time, lat_lon = strava_req['start_date'], strava_req.get('start_latlng')\n",
    "ds_req = requests.get(\"{}/{}/{},{},{}?exclude={}\".format(ds_base_url, ds_key, lat_lon[0], lat_lon[1], time, exclude_blocks), params= {'units': 'si'})\n",
    "ds_req.json()"
   ]
  },
  {
   "cell_type": "markdown",
   "metadata": {},
   "source": [
    "## Looping over activities"
   ]
  },
  {
   "cell_type": "code",
   "execution_count": 46,
   "metadata": {},
   "outputs": [],
   "source": [
    "activity_weather = []\n",
    "for activity_id in activity_ids:\n",
    "    strava_req = requests.get(\"{}/activities/{}\".format(strava_base_url, activity_id), headers = headers).json()\n",
    "    time, lat_lon = strava_req['start_date'], strava_req.get('start_latlng')\n",
    "    if lat_lon is None:\n",
    "        continue\n",
    "    else:\n",
    "        ds_req = requests.get(\"{}/{}/{},{},{}?exclude={}\".format(ds_base_url, ds_key, lat_lon[0], lat_lon[1], time, exclude_blocks), params= {'units': 'si'}).json()\n",
    "        ds_current = ds_req.get('currently')\n",
    "        if ds_current is None:\n",
    "            continue\n",
    "        else:\n",
    "            temp, wind_speed, weather = ds_current.get('temperature', np.nan), ds_current.get('windSpeed', np.nan), ds_current.get('icon', np.nan)\n",
    "            weather_attributes = {'activity_id': activity_id, 'temp': temp, 'wind_speed': wind_speed, 'weather': weather}\n",
    "            activity_weather.append(weather_attributes)"
   ]
  },
  {
   "cell_type": "code",
   "execution_count": 47,
   "metadata": {},
   "outputs": [],
   "source": [
    "activity_weather = pd.DataFrame(activity_weather)"
   ]
  },
  {
   "cell_type": "code",
   "execution_count": 48,
   "metadata": {},
   "outputs": [],
   "source": [
    "activity_weather.to_csv('activity_weather.csv')"
   ]
  },
  {
   "cell_type": "code",
   "execution_count": 3,
   "metadata": {},
   "outputs": [
    {
     "data": {
      "text/html": "<div>\n<style scoped>\n    .dataframe tbody tr th:only-of-type {\n        vertical-align: middle;\n    }\n\n    .dataframe tbody tr th {\n        vertical-align: top;\n    }\n\n    .dataframe thead th {\n        text-align: right;\n    }\n</style>\n<table border=\"1\" class=\"dataframe\">\n  <thead>\n    <tr style=\"text-align: right;\">\n      <th></th>\n      <th>activity_id</th>\n      <th>temp</th>\n      <th>weather</th>\n      <th>wind_speed</th>\n    </tr>\n  </thead>\n  <tbody>\n    <tr>\n      <th>0</th>\n      <td>3134814172</td>\n      <td>4.03</td>\n      <td>partly-cloudy-night</td>\n      <td>4.15</td>\n    </tr>\n    <tr>\n      <th>1</th>\n      <td>3131802476</td>\n      <td>2.94</td>\n      <td>rain</td>\n      <td>4.53</td>\n    </tr>\n    <tr>\n      <th>2</th>\n      <td>3124325868</td>\n      <td>12.30</td>\n      <td>rain</td>\n      <td>12.13</td>\n    </tr>\n    <tr>\n      <th>3</th>\n      <td>3121033650</td>\n      <td>11.72</td>\n      <td>wind</td>\n      <td>10.66</td>\n    </tr>\n    <tr>\n      <th>4</th>\n      <td>3121032425</td>\n      <td>11.61</td>\n      <td>wind</td>\n      <td>10.59</td>\n    </tr>\n  </tbody>\n</table>\n</div>",
      "text/plain": "   activity_id   temp              weather  wind_speed\n0   3134814172   4.03  partly-cloudy-night        4.15\n1   3131802476   2.94                 rain        4.53\n2   3124325868  12.30                 rain       12.13\n3   3121033650  11.72                 wind       10.66\n4   3121032425  11.61                 wind       10.59"
     },
     "execution_count": 3,
     "metadata": {},
     "output_type": "execute_result"
    }
   ],
   "source": [
    "activity_weather = pd.read_csv('activity_weather.csv').drop(columns = ['Unnamed: 0'])\n",
    "activity_weather.head()"
   ]
  },
  {
   "cell_type": "markdown",
   "metadata": {},
   "source": [
    "# Getting activity split times"
   ]
  },
  {
   "cell_type": "markdown",
   "metadata": {},
   "source": [
    "## Example response"
   ]
  },
  {
   "cell_type": "code",
   "execution_count": 29,
   "metadata": {},
   "outputs": [
    {
     "data": {
      "text/plain": "[{'id': 10457399657,\n  'resource_state': 2,\n  'name': 'Lap 1',\n  'activity': {'id': 3134814172, 'resource_state': 1},\n  'athlete': {'id': 34272639, 'resource_state': 1},\n  'elapsed_time': 296,\n  'moving_time': 296,\n  'start_date': '2020-02-26T20:09:31Z',\n  'start_date_local': '2020-02-26T20:09:31Z',\n  'distance': 1000.0,\n  'start_index': 0,\n  'end_index': 296,\n  'total_elevation_gain': 20.0,\n  'average_speed': 3.38,\n  'max_speed': 4.0,\n  'average_cadence': 79.0,\n  'average_heartrate': 131.0,\n  'max_heartrate': 151.0,\n  'lap_index': 1,\n  'split': 1,\n  'pace_zone': 2},\n {'id': 10457399660,\n  'resource_state': 2,\n  'name': 'Lap 2',\n  'activity': {'id': 3134814172, 'resource_state': 1},\n  'athlete': {'id': 34272639, 'resource_state': 1},\n  'elapsed_time': 288,\n  'moving_time': 288,\n  'start_date': '2020-02-26T20:14:28Z',\n  'start_date_local': '2020-02-26T20:14:28Z',\n  'distance': 1000.0,\n  'start_index': 297,\n  'end_index': 584,\n  'total_elevation_gain': 58.0,\n  'average_speed': 3.47,\n  'max_speed': 4.5,\n  'average_cadence': 79.5,\n  'average_heartrate': 141.1,\n  'max_heartrate': 149.0,\n  'lap_index': 2,\n  'split': 2,\n  'pace_zone': 2},\n {'id': 10457399662,\n  'resource_state': 2,\n  'name': 'Lap 3',\n  'activity': {'id': 3134814172, 'resource_state': 1},\n  'athlete': {'id': 34272639, 'resource_state': 1},\n  'elapsed_time': 290,\n  'moving_time': 290,\n  'start_date': '2020-02-26T20:19:16Z',\n  'start_date_local': '2020-02-26T20:19:16Z',\n  'distance': 1000.0,\n  'start_index': 585,\n  'end_index': 875,\n  'total_elevation_gain': 58.0,\n  'average_speed': 3.45,\n  'max_speed': 3.9,\n  'average_cadence': 79.6,\n  'average_heartrate': 138.9,\n  'max_heartrate': 152.0,\n  'lap_index': 3,\n  'split': 3,\n  'pace_zone': 2},\n {'id': 10457399665,\n  'resource_state': 2,\n  'name': 'Lap 4',\n  'activity': {'id': 3134814172, 'resource_state': 1},\n  'athlete': {'id': 34272639, 'resource_state': 1},\n  'elapsed_time': 298,\n  'moving_time': 298,\n  'start_date': '2020-02-26T20:24:07Z',\n  'start_date_local': '2020-02-26T20:24:07Z',\n  'distance': 1000.0,\n  'start_index': 876,\n  'end_index': 1174,\n  'total_elevation_gain': 54.0,\n  'average_speed': 3.36,\n  'max_speed': 4.1,\n  'average_cadence': 79.6,\n  'average_heartrate': 147.3,\n  'max_heartrate': 163.0,\n  'lap_index': 4,\n  'split': 4,\n  'pace_zone': 2},\n {'id': 10457399667,\n  'resource_state': 2,\n  'name': 'Lap 5',\n  'activity': {'id': 3134814172, 'resource_state': 1},\n  'athlete': {'id': 34272639, 'resource_state': 1},\n  'elapsed_time': 293,\n  'moving_time': 293,\n  'start_date': '2020-02-26T20:29:06Z',\n  'start_date_local': '2020-02-26T20:29:06Z',\n  'distance': 1000.0,\n  'start_index': 1175,\n  'end_index': 1467,\n  'total_elevation_gain': 52.0,\n  'average_speed': 3.41,\n  'max_speed': 4.9,\n  'average_cadence': 78.5,\n  'average_heartrate': 132.6,\n  'max_heartrate': 148.0,\n  'lap_index': 5,\n  'split': 5,\n  'pace_zone': 2},\n {'id': 10457399670,\n  'resource_state': 2,\n  'name': 'Lap 6',\n  'activity': {'id': 3134814172, 'resource_state': 1},\n  'athlete': {'id': 34272639, 'resource_state': 1},\n  'elapsed_time': 292,\n  'moving_time': 292,\n  'start_date': '2020-02-26T20:33:59Z',\n  'start_date_local': '2020-02-26T20:33:59Z',\n  'distance': 1000.0,\n  'start_index': 1468,\n  'end_index': 1760,\n  'total_elevation_gain': 40.0,\n  'average_speed': 3.42,\n  'max_speed': 4.1,\n  'average_cadence': 80.0,\n  'average_heartrate': 140.4,\n  'max_heartrate': 153.0,\n  'lap_index': 6,\n  'split': 6,\n  'pace_zone': 2},\n {'id': 10457399671,\n  'resource_state': 2,\n  'name': 'Lap 7',\n  'activity': {'id': 3134814172, 'resource_state': 1},\n  'athlete': {'id': 34272639, 'resource_state': 1},\n  'elapsed_time': 292,\n  'moving_time': 292,\n  'start_date': '2020-02-26T20:38:52Z',\n  'start_date_local': '2020-02-26T20:38:52Z',\n  'distance': 1000.0,\n  'start_index': 1761,\n  'end_index': 2052,\n  'total_elevation_gain': 20.0,\n  'average_speed': 3.42,\n  'max_speed': 4.4,\n  'average_cadence': 79.0,\n  'average_heartrate': 138.2,\n  'max_heartrate': 155.0,\n  'lap_index': 7,\n  'split': 7,\n  'pace_zone': 2},\n {'id': 10457399672,\n  'resource_state': 2,\n  'name': 'Lap 8',\n  'activity': {'id': 3134814172, 'resource_state': 1},\n  'athlete': {'id': 34272639, 'resource_state': 1},\n  'elapsed_time': 299,\n  'moving_time': 299,\n  'start_date': '2020-02-26T20:43:44Z',\n  'start_date_local': '2020-02-26T20:43:44Z',\n  'distance': 1000.0,\n  'start_index': 2053,\n  'end_index': 2352,\n  'total_elevation_gain': 14.0,\n  'average_speed': 3.34,\n  'max_speed': 4.1,\n  'average_cadence': 79.4,\n  'average_heartrate': 130.6,\n  'max_heartrate': 147.0,\n  'lap_index': 8,\n  'split': 8,\n  'pace_zone': 2},\n {'id': 10457399673,\n  'resource_state': 2,\n  'name': 'Lap 9',\n  'activity': {'id': 3134814172, 'resource_state': 1},\n  'athlete': {'id': 34272639, 'resource_state': 1},\n  'elapsed_time': 284,\n  'moving_time': 284,\n  'start_date': '2020-02-26T20:48:44Z',\n  'start_date_local': '2020-02-26T20:48:44Z',\n  'distance': 1000.0,\n  'start_index': 2353,\n  'end_index': 2637,\n  'total_elevation_gain': 22.0,\n  'average_speed': 3.52,\n  'max_speed': 4.3,\n  'average_cadence': 80.0,\n  'average_heartrate': 134.5,\n  'max_heartrate': 145.0,\n  'lap_index': 9,\n  'split': 9,\n  'pace_zone': 2},\n {'id': 10457399675,\n  'resource_state': 2,\n  'name': 'Lap 10',\n  'activity': {'id': 3134814172, 'resource_state': 1},\n  'athlete': {'id': 34272639, 'resource_state': 1},\n  'elapsed_time': 138,\n  'moving_time': 138,\n  'start_date': '2020-02-26T20:53:29Z',\n  'start_date_local': '2020-02-26T20:53:29Z',\n  'distance': 478.2,\n  'start_index': 2638,\n  'end_index': 2776,\n  'total_elevation_gain': 21.0,\n  'average_speed': 3.47,\n  'max_speed': 4.8,\n  'average_cadence': 80.1,\n  'average_heartrate': 137.8,\n  'max_heartrate': 143.0,\n  'lap_index': 10,\n  'split': 10,\n  'pace_zone': 2}]"
     },
     "execution_count": 29,
     "metadata": {},
     "output_type": "execute_result"
    }
   ],
   "source": [
    "req_2 = requests.get(\"{}/activities/{}/laps\".format(strava_base_url, activity_ids[0]), headers = headers)\n",
    "req_2.json()"
   ]
  },
  {
   "cell_type": "markdown",
   "metadata": {},
   "source": [
    "## Looping over activities"
   ]
  },
  {
   "cell_type": "code",
   "execution_count": 30,
   "metadata": {},
   "outputs": [],
   "source": [
    "activity_splits = []\n",
    "for activity_id in activity_ids:\n",
    "    req = requests.get(\"{}/activities/{}/laps\".format(strava_base_url, activity_id), headers = headers)\n",
    "    for split in req.json():\n",
    "        split_index = split['split']\n",
    "        split_time = split.get('elapsed_time', np.nan)\n",
    "        split_distance, split_elevation_gain = split.get('distance', np.nan), split.get('total_elevation_gain', np.nan)\n",
    "        split_average_speed, split_max_speed = split.get('average_speed', np.nan), split.get('max_speed', np.nan)\n",
    "        split_average_hr, split_max_hr = split.get('average_heartrate', np.nan), split.get('max_heartrate', np.nan)\n",
    "        split_average_cadence = split.get('average_cadence', np.nan)\n",
    "        split_attributes = {'activity_id': activity_id, 'split_index': split_index, 'split_time': split_time, 'split_distance': split_distance, 'split_elevation_gain': split_elevation_gain, 'split_average_speed': split_average_speed, 'split_max_speed': split_max_speed, 'split_average_hr': split_average_hr, 'split_max_hr': split_max_hr, 'split_average_cadence': split_average_cadence}\n",
    "        activity_splits.append(split_attributes)"
   ]
  },
  {
   "cell_type": "code",
   "execution_count": 31,
   "metadata": {},
   "outputs": [],
   "source": [
    "activity_splits = pd.DataFrame(activity_splits)"
   ]
  },
  {
   "cell_type": "code",
   "execution_count": 32,
   "metadata": {},
   "outputs": [],
   "source": [
    "activity_splits.to_csv('activity_splits.csv')"
   ]
  },
  {
   "cell_type": "code",
   "execution_count": 4,
   "metadata": {},
   "outputs": [
    {
     "data": {
      "text/html": "<div>\n<style scoped>\n    .dataframe tbody tr th:only-of-type {\n        vertical-align: middle;\n    }\n\n    .dataframe tbody tr th {\n        vertical-align: top;\n    }\n\n    .dataframe thead th {\n        text-align: right;\n    }\n</style>\n<table border=\"1\" class=\"dataframe\">\n  <thead>\n    <tr style=\"text-align: right;\">\n      <th></th>\n      <th>activity_id</th>\n      <th>split_average_cadence</th>\n      <th>split_average_hr</th>\n      <th>split_average_speed</th>\n      <th>split_distance</th>\n      <th>split_elevation_gain</th>\n      <th>split_index</th>\n      <th>split_max_hr</th>\n      <th>split_max_speed</th>\n      <th>split_time</th>\n    </tr>\n  </thead>\n  <tbody>\n    <tr>\n      <th>0</th>\n      <td>3134814172</td>\n      <td>79.0</td>\n      <td>131.0</td>\n      <td>3.38</td>\n      <td>1000.0</td>\n      <td>20.0</td>\n      <td>1</td>\n      <td>151.0</td>\n      <td>4.0</td>\n      <td>296</td>\n    </tr>\n    <tr>\n      <th>1</th>\n      <td>3134814172</td>\n      <td>79.5</td>\n      <td>141.1</td>\n      <td>3.47</td>\n      <td>1000.0</td>\n      <td>58.0</td>\n      <td>2</td>\n      <td>149.0</td>\n      <td>4.5</td>\n      <td>288</td>\n    </tr>\n    <tr>\n      <th>2</th>\n      <td>3134814172</td>\n      <td>79.6</td>\n      <td>138.9</td>\n      <td>3.45</td>\n      <td>1000.0</td>\n      <td>58.0</td>\n      <td>3</td>\n      <td>152.0</td>\n      <td>3.9</td>\n      <td>290</td>\n    </tr>\n    <tr>\n      <th>3</th>\n      <td>3134814172</td>\n      <td>79.6</td>\n      <td>147.3</td>\n      <td>3.36</td>\n      <td>1000.0</td>\n      <td>54.0</td>\n      <td>4</td>\n      <td>163.0</td>\n      <td>4.1</td>\n      <td>298</td>\n    </tr>\n    <tr>\n      <th>4</th>\n      <td>3134814172</td>\n      <td>78.5</td>\n      <td>132.6</td>\n      <td>3.41</td>\n      <td>1000.0</td>\n      <td>52.0</td>\n      <td>5</td>\n      <td>148.0</td>\n      <td>4.9</td>\n      <td>293</td>\n    </tr>\n  </tbody>\n</table>\n</div>",
      "text/plain": "   activity_id  split_average_cadence  split_average_hr  split_average_speed  \\\n0   3134814172                   79.0             131.0                 3.38   \n1   3134814172                   79.5             141.1                 3.47   \n2   3134814172                   79.6             138.9                 3.45   \n3   3134814172                   79.6             147.3                 3.36   \n4   3134814172                   78.5             132.6                 3.41   \n\n   split_distance  split_elevation_gain  split_index  split_max_hr  \\\n0          1000.0                  20.0            1         151.0   \n1          1000.0                  58.0            2         149.0   \n2          1000.0                  58.0            3         152.0   \n3          1000.0                  54.0            4         163.0   \n4          1000.0                  52.0            5         148.0   \n\n   split_max_speed  split_time  \n0              4.0         296  \n1              4.5         288  \n2              3.9         290  \n3              4.1         298  \n4              4.9         293  "
     },
     "execution_count": 4,
     "metadata": {},
     "output_type": "execute_result"
    }
   ],
   "source": [
    "activity_splits = pd.read_csv('activity_splits.csv').drop(columns = ['Unnamed: 0'])\n",
    "activity_splits.head()"
   ]
  },
  {
   "cell_type": "markdown",
   "execution_count": null,
   "metadata": {},
   "outputs": [],
   "source": [
    "# Getting activity HR zones"
   ]
  },
  {
   "cell_type": "markdown",
   "metadata": {},
   "source": [
    "## Example response"
   ]
  },
  {
   "cell_type": "code",
   "execution_count": 93,
   "metadata": {},
   "outputs": [
    {
     "data": {
      "text/plain": "[{'score': 25,\n  'distribution_buckets': [{'max': 123, 'min': 0, 'time': 135},\n   {'max': 153, 'min': 123, 'time': 2546},\n   {'max': 169, 'min': 153, 'time': 95},\n   {'max': 184, 'min': 169, 'time': 0},\n   {'max': -1, 'min': 184, 'time': 0}],\n  'type': 'heartrate',\n  'resource_state': 3,\n  'sensor_based': True,\n  'points': 0,\n  'custom_zones': False},\n {'score': 5,\n  'distribution_buckets': [{'max': 3.270811744386874, 'min': 0, 'time': 814},\n   {'max': 3.799913644214162, 'min': 3.270811744386874, 'time': 1403},\n   {'max': 4.232815198618307, 'min': 3.799913644214162, 'time': 455},\n   {'max': 4.521416234887737, 'min': 4.232815198618307, 'time': 64},\n   {'max': 4.810017271157167, 'min': 4.521416234887737, 'time': 40},\n   {'max': -1, 'min': 4.810017271157167, 'time': 0}],\n  'type': 'pace',\n  'resource_state': 3,\n  'sensor_based': True}]"
     },
     "execution_count": 93,
     "metadata": {},
     "output_type": "execute_result"
    }
   ],
   "source": [
    "req_3 = requests.get(\"{}/activities/{}/zones\".format(strava_base_url, activity_ids[0]), headers = headers)\n",
    "req_3.json()"
   ]
  },
  {
   "cell_type": "markdown",
   "metadata": {},
   "source": [
    "## Looping over activities"
   ]
  },
  {
   "cell_type": "code",
   "execution_count": 92,
   "metadata": {},
   "outputs": [],
   "source": [
    "activity_zones = []\n",
    "for activity_id in activity_ids:\n",
    "    req = requests.get(\"{}/activities/{}/zones\".format(strava_base_url, activity_id), headers = headers)\n",
    "    if len(req.json()) > 0:\n",
    "        activity_attributes = {'activity_id': activity_id}\n",
    "        bucket_times = list(map(lambda x: list(map(lambda x: x['time'], x['distribution_buckets'])), req.json()))\n",
    "        bucket_types = list(map(lambda x: x['type'], req.json()))\n",
    "        for bucket in buckets:\n",
    "            i = 1\n",
    "            for zone in bucket[1]:\n",
    "                activity_attributes[\"{}_zone_{}_time\".format(bucket[0], i)] = zone\n",
    "                i += 1\n",
    "        activity_zones.append(activity_attributes)\n",
    "        if 'heartrate' not in bucket_types:\n",
    "            for i in range(1,6):\n",
    "                activity_attributes['heartrate_zone_{}_time'.format(i)] = 0\n",
    "        elif 'pace' not in bucket_types:\n",
    "            for i in range(1,7):\n",
    "                activity_attributes['pace_zone_{}_time'.format(i)] = 0\n",
    "        buckets = list(zip(bucket_types, bucket_times))\n",
    "    else:\n",
    "        continue"
   ]
  },
  {
   "cell_type": "code",
   "execution_count": 96,
   "metadata": {},
   "outputs": [],
   "source": [
    "activity_zones = pd.DataFrame(activity_zones).fillna(0)"
   ]
  },
  {
   "cell_type": "code",
   "execution_count": 97,
   "metadata": {},
   "outputs": [],
   "source": [
    "activity_zones.to_csv('activity_zones.csv')"
   ]
  },
  {
   "cell_type": "code",
   "execution_count": 5,
   "metadata": {},
   "outputs": [
    {
     "data": {
      "text/html": "<div>\n<style scoped>\n    .dataframe tbody tr th:only-of-type {\n        vertical-align: middle;\n    }\n\n    .dataframe tbody tr th {\n        vertical-align: top;\n    }\n\n    .dataframe thead th {\n        text-align: right;\n    }\n</style>\n<table border=\"1\" class=\"dataframe\">\n  <thead>\n    <tr style=\"text-align: right;\">\n      <th></th>\n      <th>activity_id</th>\n      <th>heartrate_zone_1_time</th>\n      <th>heartrate_zone_2_time</th>\n      <th>heartrate_zone_3_time</th>\n      <th>heartrate_zone_4_time</th>\n      <th>heartrate_zone_5_time</th>\n      <th>pace_zone_1_time</th>\n      <th>pace_zone_2_time</th>\n      <th>pace_zone_3_time</th>\n      <th>pace_zone_4_time</th>\n      <th>pace_zone_5_time</th>\n      <th>pace_zone_6_time</th>\n    </tr>\n  </thead>\n  <tbody>\n    <tr>\n      <th>0</th>\n      <td>3134814172</td>\n      <td>0.0</td>\n      <td>50.0</td>\n      <td>332.0</td>\n      <td>730.0</td>\n      <td>0.0</td>\n      <td>0.0</td>\n      <td>0.0</td>\n      <td>0.0</td>\n      <td>0.0</td>\n      <td>0.0</td>\n      <td>0.0</td>\n    </tr>\n    <tr>\n      <th>1</th>\n      <td>3131802476</td>\n      <td>135.0</td>\n      <td>2546.0</td>\n      <td>95.0</td>\n      <td>0.0</td>\n      <td>0.0</td>\n      <td>814.0</td>\n      <td>1403.0</td>\n      <td>455.0</td>\n      <td>64.0</td>\n      <td>40.0</td>\n      <td>0.0</td>\n    </tr>\n    <tr>\n      <th>2</th>\n      <td>3124325868</td>\n      <td>97.0</td>\n      <td>1362.0</td>\n      <td>730.0</td>\n      <td>609.0</td>\n      <td>18.0</td>\n      <td>753.0</td>\n      <td>695.0</td>\n      <td>299.0</td>\n      <td>36.0</td>\n      <td>106.0</td>\n      <td>927.0</td>\n    </tr>\n    <tr>\n      <th>3</th>\n      <td>3121033650</td>\n      <td>118.0</td>\n      <td>2528.0</td>\n      <td>183.0</td>\n      <td>1.0</td>\n      <td>0.0</td>\n      <td>458.0</td>\n      <td>1749.0</td>\n      <td>545.0</td>\n      <td>56.0</td>\n      <td>22.0</td>\n      <td>0.0</td>\n    </tr>\n    <tr>\n      <th>4</th>\n      <td>3121032425</td>\n      <td>19.0</td>\n      <td>240.0</td>\n      <td>109.0</td>\n      <td>239.0</td>\n      <td>505.0</td>\n      <td>0.0</td>\n      <td>0.0</td>\n      <td>94.0</td>\n      <td>342.0</td>\n      <td>448.0</td>\n      <td>228.0</td>\n    </tr>\n  </tbody>\n</table>\n</div>",
      "text/plain": "   activity_id  heartrate_zone_1_time  heartrate_zone_2_time  \\\n0   3134814172                    0.0                   50.0   \n1   3131802476                  135.0                 2546.0   \n2   3124325868                   97.0                 1362.0   \n3   3121033650                  118.0                 2528.0   \n4   3121032425                   19.0                  240.0   \n\n   heartrate_zone_3_time  heartrate_zone_4_time  heartrate_zone_5_time  \\\n0                  332.0                  730.0                    0.0   \n1                   95.0                    0.0                    0.0   \n2                  730.0                  609.0                   18.0   \n3                  183.0                    1.0                    0.0   \n4                  109.0                  239.0                  505.0   \n\n   pace_zone_1_time  pace_zone_2_time  pace_zone_3_time  pace_zone_4_time  \\\n0               0.0               0.0               0.0               0.0   \n1             814.0            1403.0             455.0              64.0   \n2             753.0             695.0             299.0              36.0   \n3             458.0            1749.0             545.0              56.0   \n4               0.0               0.0              94.0             342.0   \n\n   pace_zone_5_time  pace_zone_6_time  \n0               0.0               0.0  \n1              40.0               0.0  \n2             106.0             927.0  \n3              22.0               0.0  \n4             448.0             228.0  "
     },
     "execution_count": 5,
     "metadata": {},
     "output_type": "execute_result"
    }
   ],
   "source": [
    "activity_zones = pd.read_csv('activity_zones.csv').drop(columns = ['Unnamed: 0'])\n",
    "activity_zones.head()"
   ]
  },
  {
   "cell_type": "code",
   "execution_count": 28,
   "metadata": {},
   "outputs": [],
   "source": [
    "import datetime\n",
    "activities_df['start_date'] = pd.to_datetime(activities_df['start_date'])\n",
    "activities_df['activity_date'] = activities_df['start_date'].map(lambda x: x.date)\n",
    "activities_df['activity_time'] = activities_df['start_date'].map(lambda x: x.time)"
   ]
  },
  {
   "cell_type": "markdown",
   "metadata": {},
   "source": [
    "# ETL pipeline"
   ]
  },
  {
   "cell_type": "code",
   "execution_count": 126,
   "metadata": {},
   "outputs": [],
   "source": [
    "def token_exchange():\n",
    "    api_credentials_file = open('.secret/strava_api_credentials.json', 'r')\n",
    "    api_credentials = json.load(api_credentials_file)\n",
    "    client_id = api_credentials['client_id']\n",
    "    client_secret = api_credentials['client_secret']\n",
    "    refresh_token = api_credentials['refresh_token']\n",
    "    api_credentials_file.close()\n",
    "    req = requests.post(\"https://www.strava.com/oauth/token?client_id={}&client_secret={}&refresh_token={}&grant_type=refresh_token\".format(client_id, client_secret, refresh_token)).json()\n",
    "    api_credentials['access_token'] = req['access_token']\n",
    "    api_credentials['refresh_token'] = req['refresh_token']\n",
    "    api_credentials_file = open('.secret/strava_api_credentials.json', 'w')\n",
    "    json.dump(api_credentials, api_credentials_file)\n",
    "    api_credentials_file.close()\n",
    "    return api_credentials"
   ]
  },
  {
   "cell_type": "code",
   "execution_count": 127,
   "metadata": {},
   "outputs": [
    {
     "data": {
      "text/plain": "{'client_id': '41870',\n 'client_secret': 'f1bd14658a33ea8b696ffb8f51ca247075e5197d',\n 'access_token': '889054b9f7e1ce35faa45e0cc0a52b7e2f7ac354',\n 'refresh_token': 'f437acf70f96a2e3cadbc2416b63f2855fa9dfee'}"
     },
     "execution_count": 127,
     "metadata": {},
     "output_type": "execute_result"
    }
   ],
   "source": [
    "token_exchange()"
   ]
  },
  {
   "cell_type": "code",
   "execution_count": 128,
   "metadata": {},
   "outputs": [],
   "source": [
    "def request_activities(access_token, start_date):\n",
    "    url = \"https://www.strava.com/api/v3/athlete/activities\"\n",
    "    headers = {\"Authorization\": \"Bearer {}\".format(access_token)}\n",
    "    params = {'after': start_date}\n",
    "    req = requests.get(url, headers = headers, params = params).json()\n",
    "    activities = []\n",
    "    for activity in req:\n",
    "        activity_info = {}\n",
    "        activity_info['activity_name'] = activity['name']\n",
    "        activity_info['activity_id'] = activity['id']\n",
    "        activity_info['activity_type'] = activity['type']\n",
    "        activity_info['distance'] = activity.get('distance', np.nan)\n",
    "        activity_info['time'] = activity.get('elapsed_time', np.nan)\n",
    "        activity_info['elevation_gain'] = activity.get('total_elevation_gain', np.nan)\n",
    "        activity_info['kudos'] = activity.get('kudos_count', np.nan)\n",
    "        activity_info['start_date'] = activity.get('start_date', np.nan)\n",
    "        activity_info['average_speed'] = activity.get('average_speed', np.nan)\n",
    "        activity_info['max_speed'] = activity.get('max_speed', np.nan)\n",
    "        activity_info['average_cadence'] = activity.get('average_cadence', np.nan)\n",
    "        activity_info['average_hr'] = activity.get('average_heartrate', np.nan)\n",
    "        activity_info['max_hr'] = activity.get('max_heartrate', np.nan)\n",
    "        activity_info['suffer_score'] = activity.get('suffer_score', np.nan)\n",
    "        activities.append(activity_info)\n",
    "    return activities"
   ]
  },
  {
   "cell_type": "code",
   "execution_count": 129,
   "metadata": {},
   "outputs": [],
   "source": [
    "access_token = token_exchange()['access_token']"
   ]
  },
  {
   "cell_type": "code",
   "execution_count": 130,
   "metadata": {},
   "outputs": [],
   "source": [
    "from datetime import datetime\n",
    "import time\n",
    "\n",
    "def iso_8601_to_unix(date_string):\n",
    "    iso_8601_date = datetime.strptime(date_string, '%Y-%m-%dT%H:%M:%SZ')\n",
    "    date_tuple = iso_8601_date.timetuple()\n",
    "    unix_date = int(time.mktime(date_tuple))\n",
    "    return unix_date"
   ]
  },
  {
   "cell_type": "code",
   "execution_count": 131,
   "metadata": {},
   "outputs": [],
   "source": [
    "test_date = iso_8601_to_unix('2020-02-27T00:00:00Z')\n",
    "activities = request_activities(access_token, test_date)\n",
    "activity_ids = list(map(lambda activity: activity['activity_id'], activities))"
   ]
  },
  {
   "cell_type": "code",
   "execution_count": 138,
   "metadata": {},
   "outputs": [],
   "source": [
    "import csv\n",
    "\n",
    "def append_activities(activities):\n",
    "    n = len(activities)\n",
    "    with open('activities.csv', 'r') as r, open('activities.csv', 'a', newline = '') as a:\n",
    "        activity_fields = next(csv.reader(r))\n",
    "        csv_writer = csv.DictWriter(a, fieldnames = activity_fields, restval = 0)\n",
    "        csv_writer.writerows(activities)\n",
    "    return print(\"{} activities appended\".format(n))"
   ]
  },
  {
   "cell_type": "code",
   "execution_count": 139,
   "metadata": {},
   "outputs": [
    {
     "name": "stdout",
     "output_type": "stream",
     "text": "8 activities appended\n"
    }
   ],
   "source": [
    "append_activities(activities)"
   ]
  },
  {
   "cell_type": "code",
   "execution_count": null,
   "metadata": {},
   "outputs": [],
   "source": []
  }
 ]
}